{
  "nbformat": 4,
  "nbformat_minor": 0,
  "metadata": {
    "colab": {
      "provenance": [],
      "machine_shape": "hm",
      "authorship_tag": "ABX9TyO1MjTgRdbVz9sX1qMWp2ZQ",
      "include_colab_link": true
    },
    "kernelspec": {
      "name": "python3",
      "display_name": "Python 3"
    },
    "language_info": {
      "name": "python"
    },
    "gpuClass": "standard",
    "accelerator": "GPU",
    "widgets": {
      "application/vnd.jupyter.widget-state+json": {
        "9acf1d68bfae4b15bd96ba9dea1f51c5": {
          "model_module": "@jupyter-widgets/controls",
          "model_name": "HBoxModel",
          "model_module_version": "1.5.0",
          "state": {
            "_dom_classes": [],
            "_model_module": "@jupyter-widgets/controls",
            "_model_module_version": "1.5.0",
            "_model_name": "HBoxModel",
            "_view_count": null,
            "_view_module": "@jupyter-widgets/controls",
            "_view_module_version": "1.5.0",
            "_view_name": "HBoxView",
            "box_style": "",
            "children": [
              "IPY_MODEL_c4fcd2b45be6423ca3ea0cf5aa3915d7",
              "IPY_MODEL_16d3ae9653d54a1dbc1e7b9694a3f911",
              "IPY_MODEL_337159a6077c48aeadc271ab09ecfd8b"
            ],
            "layout": "IPY_MODEL_839ed3db20914ba7afbeee4a4d70ddbc"
          }
        },
        "c4fcd2b45be6423ca3ea0cf5aa3915d7": {
          "model_module": "@jupyter-widgets/controls",
          "model_name": "HTMLModel",
          "model_module_version": "1.5.0",
          "state": {
            "_dom_classes": [],
            "_model_module": "@jupyter-widgets/controls",
            "_model_module_version": "1.5.0",
            "_model_name": "HTMLModel",
            "_view_count": null,
            "_view_module": "@jupyter-widgets/controls",
            "_view_module_version": "1.5.0",
            "_view_name": "HTMLView",
            "description": "",
            "description_tooltip": null,
            "layout": "IPY_MODEL_c0933c06bab84562b91c63766df8258a",
            "placeholder": "​",
            "style": "IPY_MODEL_ecaca5277fff4e76a6176be235a975d7",
            "value": "100%"
          }
        },
        "16d3ae9653d54a1dbc1e7b9694a3f911": {
          "model_module": "@jupyter-widgets/controls",
          "model_name": "FloatProgressModel",
          "model_module_version": "1.5.0",
          "state": {
            "_dom_classes": [],
            "_model_module": "@jupyter-widgets/controls",
            "_model_module_version": "1.5.0",
            "_model_name": "FloatProgressModel",
            "_view_count": null,
            "_view_module": "@jupyter-widgets/controls",
            "_view_module_version": "1.5.0",
            "_view_name": "ProgressView",
            "bar_style": "success",
            "description": "",
            "description_tooltip": null,
            "layout": "IPY_MODEL_ebf296c1d167408a93a0a2d72188497a",
            "max": 3600,
            "min": 0,
            "orientation": "horizontal",
            "style": "IPY_MODEL_09e898671ab342b3a0db0691b99372ac",
            "value": 3600
          }
        },
        "337159a6077c48aeadc271ab09ecfd8b": {
          "model_module": "@jupyter-widgets/controls",
          "model_name": "HTMLModel",
          "model_module_version": "1.5.0",
          "state": {
            "_dom_classes": [],
            "_model_module": "@jupyter-widgets/controls",
            "_model_module_version": "1.5.0",
            "_model_name": "HTMLModel",
            "_view_count": null,
            "_view_module": "@jupyter-widgets/controls",
            "_view_module_version": "1.5.0",
            "_view_name": "HTMLView",
            "description": "",
            "description_tooltip": null,
            "layout": "IPY_MODEL_2ac3983c810e40838771f4a71f29fcd0",
            "placeholder": "​",
            "style": "IPY_MODEL_55c3140372344d829a8a45f70aafffa4",
            "value": " 3600/3600 [00:04&lt;00:00, 1417.21it/s]"
          }
        },
        "839ed3db20914ba7afbeee4a4d70ddbc": {
          "model_module": "@jupyter-widgets/base",
          "model_name": "LayoutModel",
          "model_module_version": "1.2.0",
          "state": {
            "_model_module": "@jupyter-widgets/base",
            "_model_module_version": "1.2.0",
            "_model_name": "LayoutModel",
            "_view_count": null,
            "_view_module": "@jupyter-widgets/base",
            "_view_module_version": "1.2.0",
            "_view_name": "LayoutView",
            "align_content": null,
            "align_items": null,
            "align_self": null,
            "border": null,
            "bottom": null,
            "display": null,
            "flex": null,
            "flex_flow": null,
            "grid_area": null,
            "grid_auto_columns": null,
            "grid_auto_flow": null,
            "grid_auto_rows": null,
            "grid_column": null,
            "grid_gap": null,
            "grid_row": null,
            "grid_template_areas": null,
            "grid_template_columns": null,
            "grid_template_rows": null,
            "height": null,
            "justify_content": null,
            "justify_items": null,
            "left": null,
            "margin": null,
            "max_height": null,
            "max_width": null,
            "min_height": null,
            "min_width": null,
            "object_fit": null,
            "object_position": null,
            "order": null,
            "overflow": null,
            "overflow_x": null,
            "overflow_y": null,
            "padding": null,
            "right": null,
            "top": null,
            "visibility": null,
            "width": null
          }
        },
        "c0933c06bab84562b91c63766df8258a": {
          "model_module": "@jupyter-widgets/base",
          "model_name": "LayoutModel",
          "model_module_version": "1.2.0",
          "state": {
            "_model_module": "@jupyter-widgets/base",
            "_model_module_version": "1.2.0",
            "_model_name": "LayoutModel",
            "_view_count": null,
            "_view_module": "@jupyter-widgets/base",
            "_view_module_version": "1.2.0",
            "_view_name": "LayoutView",
            "align_content": null,
            "align_items": null,
            "align_self": null,
            "border": null,
            "bottom": null,
            "display": null,
            "flex": null,
            "flex_flow": null,
            "grid_area": null,
            "grid_auto_columns": null,
            "grid_auto_flow": null,
            "grid_auto_rows": null,
            "grid_column": null,
            "grid_gap": null,
            "grid_row": null,
            "grid_template_areas": null,
            "grid_template_columns": null,
            "grid_template_rows": null,
            "height": null,
            "justify_content": null,
            "justify_items": null,
            "left": null,
            "margin": null,
            "max_height": null,
            "max_width": null,
            "min_height": null,
            "min_width": null,
            "object_fit": null,
            "object_position": null,
            "order": null,
            "overflow": null,
            "overflow_x": null,
            "overflow_y": null,
            "padding": null,
            "right": null,
            "top": null,
            "visibility": null,
            "width": null
          }
        },
        "ecaca5277fff4e76a6176be235a975d7": {
          "model_module": "@jupyter-widgets/controls",
          "model_name": "DescriptionStyleModel",
          "model_module_version": "1.5.0",
          "state": {
            "_model_module": "@jupyter-widgets/controls",
            "_model_module_version": "1.5.0",
            "_model_name": "DescriptionStyleModel",
            "_view_count": null,
            "_view_module": "@jupyter-widgets/base",
            "_view_module_version": "1.2.0",
            "_view_name": "StyleView",
            "description_width": ""
          }
        },
        "ebf296c1d167408a93a0a2d72188497a": {
          "model_module": "@jupyter-widgets/base",
          "model_name": "LayoutModel",
          "model_module_version": "1.2.0",
          "state": {
            "_model_module": "@jupyter-widgets/base",
            "_model_module_version": "1.2.0",
            "_model_name": "LayoutModel",
            "_view_count": null,
            "_view_module": "@jupyter-widgets/base",
            "_view_module_version": "1.2.0",
            "_view_name": "LayoutView",
            "align_content": null,
            "align_items": null,
            "align_self": null,
            "border": null,
            "bottom": null,
            "display": null,
            "flex": null,
            "flex_flow": null,
            "grid_area": null,
            "grid_auto_columns": null,
            "grid_auto_flow": null,
            "grid_auto_rows": null,
            "grid_column": null,
            "grid_gap": null,
            "grid_row": null,
            "grid_template_areas": null,
            "grid_template_columns": null,
            "grid_template_rows": null,
            "height": null,
            "justify_content": null,
            "justify_items": null,
            "left": null,
            "margin": null,
            "max_height": null,
            "max_width": null,
            "min_height": null,
            "min_width": null,
            "object_fit": null,
            "object_position": null,
            "order": null,
            "overflow": null,
            "overflow_x": null,
            "overflow_y": null,
            "padding": null,
            "right": null,
            "top": null,
            "visibility": null,
            "width": null
          }
        },
        "09e898671ab342b3a0db0691b99372ac": {
          "model_module": "@jupyter-widgets/controls",
          "model_name": "ProgressStyleModel",
          "model_module_version": "1.5.0",
          "state": {
            "_model_module": "@jupyter-widgets/controls",
            "_model_module_version": "1.5.0",
            "_model_name": "ProgressStyleModel",
            "_view_count": null,
            "_view_module": "@jupyter-widgets/base",
            "_view_module_version": "1.2.0",
            "_view_name": "StyleView",
            "bar_color": null,
            "description_width": ""
          }
        },
        "2ac3983c810e40838771f4a71f29fcd0": {
          "model_module": "@jupyter-widgets/base",
          "model_name": "LayoutModel",
          "model_module_version": "1.2.0",
          "state": {
            "_model_module": "@jupyter-widgets/base",
            "_model_module_version": "1.2.0",
            "_model_name": "LayoutModel",
            "_view_count": null,
            "_view_module": "@jupyter-widgets/base",
            "_view_module_version": "1.2.0",
            "_view_name": "LayoutView",
            "align_content": null,
            "align_items": null,
            "align_self": null,
            "border": null,
            "bottom": null,
            "display": null,
            "flex": null,
            "flex_flow": null,
            "grid_area": null,
            "grid_auto_columns": null,
            "grid_auto_flow": null,
            "grid_auto_rows": null,
            "grid_column": null,
            "grid_gap": null,
            "grid_row": null,
            "grid_template_areas": null,
            "grid_template_columns": null,
            "grid_template_rows": null,
            "height": null,
            "justify_content": null,
            "justify_items": null,
            "left": null,
            "margin": null,
            "max_height": null,
            "max_width": null,
            "min_height": null,
            "min_width": null,
            "object_fit": null,
            "object_position": null,
            "order": null,
            "overflow": null,
            "overflow_x": null,
            "overflow_y": null,
            "padding": null,
            "right": null,
            "top": null,
            "visibility": null,
            "width": null
          }
        },
        "55c3140372344d829a8a45f70aafffa4": {
          "model_module": "@jupyter-widgets/controls",
          "model_name": "DescriptionStyleModel",
          "model_module_version": "1.5.0",
          "state": {
            "_model_module": "@jupyter-widgets/controls",
            "_model_module_version": "1.5.0",
            "_model_name": "DescriptionStyleModel",
            "_view_count": null,
            "_view_module": "@jupyter-widgets/base",
            "_view_module_version": "1.2.0",
            "_view_name": "StyleView",
            "description_width": ""
          }
        },
        "67b20fca2a3249a7bca3d57c7098248b": {
          "model_module": "@jupyter-widgets/controls",
          "model_name": "HBoxModel",
          "model_module_version": "1.5.0",
          "state": {
            "_dom_classes": [],
            "_model_module": "@jupyter-widgets/controls",
            "_model_module_version": "1.5.0",
            "_model_name": "HBoxModel",
            "_view_count": null,
            "_view_module": "@jupyter-widgets/controls",
            "_view_module_version": "1.5.0",
            "_view_name": "HBoxView",
            "box_style": "",
            "children": [
              "IPY_MODEL_44f5c90d90a94d3880605df339aae630",
              "IPY_MODEL_84b53e51c4874febac83178aea53e7b0",
              "IPY_MODEL_89baa8e8a42d444ea41ca142ab1d361a"
            ],
            "layout": "IPY_MODEL_dfca18157b094febab2d23e022394a88"
          }
        },
        "44f5c90d90a94d3880605df339aae630": {
          "model_module": "@jupyter-widgets/controls",
          "model_name": "HTMLModel",
          "model_module_version": "1.5.0",
          "state": {
            "_dom_classes": [],
            "_model_module": "@jupyter-widgets/controls",
            "_model_module_version": "1.5.0",
            "_model_name": "HTMLModel",
            "_view_count": null,
            "_view_module": "@jupyter-widgets/controls",
            "_view_module_version": "1.5.0",
            "_view_name": "HTMLView",
            "description": "",
            "description_tooltip": null,
            "layout": "IPY_MODEL_a4dd4c116c7e41298438d9be6e14d2d2",
            "placeholder": "​",
            "style": "IPY_MODEL_4072bb7cebf648359156f7d2e7429921",
            "value": "100%"
          }
        },
        "84b53e51c4874febac83178aea53e7b0": {
          "model_module": "@jupyter-widgets/controls",
          "model_name": "FloatProgressModel",
          "model_module_version": "1.5.0",
          "state": {
            "_dom_classes": [],
            "_model_module": "@jupyter-widgets/controls",
            "_model_module_version": "1.5.0",
            "_model_name": "FloatProgressModel",
            "_view_count": null,
            "_view_module": "@jupyter-widgets/controls",
            "_view_module_version": "1.5.0",
            "_view_name": "ProgressView",
            "bar_style": "success",
            "description": "",
            "description_tooltip": null,
            "layout": "IPY_MODEL_4bef87a18a5248229586ab9d1422e788",
            "max": 500,
            "min": 0,
            "orientation": "horizontal",
            "style": "IPY_MODEL_1be70fb0ae924decbc4b36a671b2c7ce",
            "value": 500
          }
        },
        "89baa8e8a42d444ea41ca142ab1d361a": {
          "model_module": "@jupyter-widgets/controls",
          "model_name": "HTMLModel",
          "model_module_version": "1.5.0",
          "state": {
            "_dom_classes": [],
            "_model_module": "@jupyter-widgets/controls",
            "_model_module_version": "1.5.0",
            "_model_name": "HTMLModel",
            "_view_count": null,
            "_view_module": "@jupyter-widgets/controls",
            "_view_module_version": "1.5.0",
            "_view_name": "HTMLView",
            "description": "",
            "description_tooltip": null,
            "layout": "IPY_MODEL_e80b9e2997f547fca99472e8991a090a",
            "placeholder": "​",
            "style": "IPY_MODEL_7ff33c312f4b4621b07b91b720cdc2c1",
            "value": " 500/500 [00:00&lt;00:00, 680.73it/s]"
          }
        },
        "dfca18157b094febab2d23e022394a88": {
          "model_module": "@jupyter-widgets/base",
          "model_name": "LayoutModel",
          "model_module_version": "1.2.0",
          "state": {
            "_model_module": "@jupyter-widgets/base",
            "_model_module_version": "1.2.0",
            "_model_name": "LayoutModel",
            "_view_count": null,
            "_view_module": "@jupyter-widgets/base",
            "_view_module_version": "1.2.0",
            "_view_name": "LayoutView",
            "align_content": null,
            "align_items": null,
            "align_self": null,
            "border": null,
            "bottom": null,
            "display": null,
            "flex": null,
            "flex_flow": null,
            "grid_area": null,
            "grid_auto_columns": null,
            "grid_auto_flow": null,
            "grid_auto_rows": null,
            "grid_column": null,
            "grid_gap": null,
            "grid_row": null,
            "grid_template_areas": null,
            "grid_template_columns": null,
            "grid_template_rows": null,
            "height": null,
            "justify_content": null,
            "justify_items": null,
            "left": null,
            "margin": null,
            "max_height": null,
            "max_width": null,
            "min_height": null,
            "min_width": null,
            "object_fit": null,
            "object_position": null,
            "order": null,
            "overflow": null,
            "overflow_x": null,
            "overflow_y": null,
            "padding": null,
            "right": null,
            "top": null,
            "visibility": null,
            "width": null
          }
        },
        "a4dd4c116c7e41298438d9be6e14d2d2": {
          "model_module": "@jupyter-widgets/base",
          "model_name": "LayoutModel",
          "model_module_version": "1.2.0",
          "state": {
            "_model_module": "@jupyter-widgets/base",
            "_model_module_version": "1.2.0",
            "_model_name": "LayoutModel",
            "_view_count": null,
            "_view_module": "@jupyter-widgets/base",
            "_view_module_version": "1.2.0",
            "_view_name": "LayoutView",
            "align_content": null,
            "align_items": null,
            "align_self": null,
            "border": null,
            "bottom": null,
            "display": null,
            "flex": null,
            "flex_flow": null,
            "grid_area": null,
            "grid_auto_columns": null,
            "grid_auto_flow": null,
            "grid_auto_rows": null,
            "grid_column": null,
            "grid_gap": null,
            "grid_row": null,
            "grid_template_areas": null,
            "grid_template_columns": null,
            "grid_template_rows": null,
            "height": null,
            "justify_content": null,
            "justify_items": null,
            "left": null,
            "margin": null,
            "max_height": null,
            "max_width": null,
            "min_height": null,
            "min_width": null,
            "object_fit": null,
            "object_position": null,
            "order": null,
            "overflow": null,
            "overflow_x": null,
            "overflow_y": null,
            "padding": null,
            "right": null,
            "top": null,
            "visibility": null,
            "width": null
          }
        },
        "4072bb7cebf648359156f7d2e7429921": {
          "model_module": "@jupyter-widgets/controls",
          "model_name": "DescriptionStyleModel",
          "model_module_version": "1.5.0",
          "state": {
            "_model_module": "@jupyter-widgets/controls",
            "_model_module_version": "1.5.0",
            "_model_name": "DescriptionStyleModel",
            "_view_count": null,
            "_view_module": "@jupyter-widgets/base",
            "_view_module_version": "1.2.0",
            "_view_name": "StyleView",
            "description_width": ""
          }
        },
        "4bef87a18a5248229586ab9d1422e788": {
          "model_module": "@jupyter-widgets/base",
          "model_name": "LayoutModel",
          "model_module_version": "1.2.0",
          "state": {
            "_model_module": "@jupyter-widgets/base",
            "_model_module_version": "1.2.0",
            "_model_name": "LayoutModel",
            "_view_count": null,
            "_view_module": "@jupyter-widgets/base",
            "_view_module_version": "1.2.0",
            "_view_name": "LayoutView",
            "align_content": null,
            "align_items": null,
            "align_self": null,
            "border": null,
            "bottom": null,
            "display": null,
            "flex": null,
            "flex_flow": null,
            "grid_area": null,
            "grid_auto_columns": null,
            "grid_auto_flow": null,
            "grid_auto_rows": null,
            "grid_column": null,
            "grid_gap": null,
            "grid_row": null,
            "grid_template_areas": null,
            "grid_template_columns": null,
            "grid_template_rows": null,
            "height": null,
            "justify_content": null,
            "justify_items": null,
            "left": null,
            "margin": null,
            "max_height": null,
            "max_width": null,
            "min_height": null,
            "min_width": null,
            "object_fit": null,
            "object_position": null,
            "order": null,
            "overflow": null,
            "overflow_x": null,
            "overflow_y": null,
            "padding": null,
            "right": null,
            "top": null,
            "visibility": null,
            "width": null
          }
        },
        "1be70fb0ae924decbc4b36a671b2c7ce": {
          "model_module": "@jupyter-widgets/controls",
          "model_name": "ProgressStyleModel",
          "model_module_version": "1.5.0",
          "state": {
            "_model_module": "@jupyter-widgets/controls",
            "_model_module_version": "1.5.0",
            "_model_name": "ProgressStyleModel",
            "_view_count": null,
            "_view_module": "@jupyter-widgets/base",
            "_view_module_version": "1.2.0",
            "_view_name": "StyleView",
            "bar_color": null,
            "description_width": ""
          }
        },
        "e80b9e2997f547fca99472e8991a090a": {
          "model_module": "@jupyter-widgets/base",
          "model_name": "LayoutModel",
          "model_module_version": "1.2.0",
          "state": {
            "_model_module": "@jupyter-widgets/base",
            "_model_module_version": "1.2.0",
            "_model_name": "LayoutModel",
            "_view_count": null,
            "_view_module": "@jupyter-widgets/base",
            "_view_module_version": "1.2.0",
            "_view_name": "LayoutView",
            "align_content": null,
            "align_items": null,
            "align_self": null,
            "border": null,
            "bottom": null,
            "display": null,
            "flex": null,
            "flex_flow": null,
            "grid_area": null,
            "grid_auto_columns": null,
            "grid_auto_flow": null,
            "grid_auto_rows": null,
            "grid_column": null,
            "grid_gap": null,
            "grid_row": null,
            "grid_template_areas": null,
            "grid_template_columns": null,
            "grid_template_rows": null,
            "height": null,
            "justify_content": null,
            "justify_items": null,
            "left": null,
            "margin": null,
            "max_height": null,
            "max_width": null,
            "min_height": null,
            "min_width": null,
            "object_fit": null,
            "object_position": null,
            "order": null,
            "overflow": null,
            "overflow_x": null,
            "overflow_y": null,
            "padding": null,
            "right": null,
            "top": null,
            "visibility": null,
            "width": null
          }
        },
        "7ff33c312f4b4621b07b91b720cdc2c1": {
          "model_module": "@jupyter-widgets/controls",
          "model_name": "DescriptionStyleModel",
          "model_module_version": "1.5.0",
          "state": {
            "_model_module": "@jupyter-widgets/controls",
            "_model_module_version": "1.5.0",
            "_model_name": "DescriptionStyleModel",
            "_view_count": null,
            "_view_module": "@jupyter-widgets/base",
            "_view_module_version": "1.2.0",
            "_view_name": "StyleView",
            "description_width": ""
          }
        }
      }
    }
  },
  "cells": [
    {
      "cell_type": "markdown",
      "metadata": {
        "id": "view-in-github",
        "colab_type": "text"
      },
      "source": [
        "<a href=\"https://colab.research.google.com/github/kelvinsima2/ECG_Classification/blob/main/ECG_Classification.ipynb\" target=\"_parent\"><img src=\"https://colab.research.google.com/assets/colab-badge.svg\" alt=\"Open In Colab\"/></a>"
      ]
    },
    {
      "cell_type": "markdown",
      "source": [
        "# Data Preparation"
      ],
      "metadata": {
        "id": "J9aTifek64eV"
      }
    },
    {
      "cell_type": "code",
      "source": [
        "# In this project, the data is in google drive.\n",
        "# Start by connecting to google drive.\n",
        "from google.colab import drive\n",
        "drive.mount('/content/drive')"
      ],
      "metadata": {
        "colab": {
          "base_uri": "https://localhost:8080/"
        },
        "id": "uLauR2-eb_cC",
        "outputId": "4c88a903-183e-4ba3-cca4-36f3c8126456"
      },
      "execution_count": 211,
      "outputs": [
        {
          "output_type": "stream",
          "name": "stdout",
          "text": [
            "Drive already mounted at /content/drive; to attempt to forcibly remount, call drive.mount(\"/content/drive\", force_remount=True).\n"
          ]
        }
      ]
    },
    {
      "cell_type": "code",
      "execution_count": 212,
      "metadata": {
        "id": "t-vd-8h3bjh2"
      },
      "outputs": [],
      "source": [
        "# import libraries\n",
        "import pandas as pd\n",
        "import numpy as np\n",
        "import matplotlib.pyplot as plt\n"
      ]
    },
    {
      "cell_type": "code",
      "source": [
        "# Specify locations of data files\n",
        "train_path = '/content/drive/My Drive/ECG Project/Data/ecg-data/ecg-data/mitbih_train.csv'\n",
        "test_path = '/content/drive/My Drive/ECG Project/Data/ecg-data/ecg-data/mitbih_test.csv'\n"
      ],
      "metadata": {
        "id": "_Waqh_oybqTg"
      },
      "execution_count": 213,
      "outputs": []
    },
    {
      "cell_type": "code",
      "source": [
        "# Save training and testing data into separate dataframes.\n",
        "df_train = pd.read_csv(train_path, header = None)\n",
        "df_test = pd.read_csv(test_path, header = None)"
      ],
      "metadata": {
        "id": "8gu_sPlXiq-9"
      },
      "execution_count": 214,
      "outputs": []
    },
    {
      "cell_type": "code",
      "source": [
        "df_train.head()"
      ],
      "metadata": {
        "colab": {
          "base_uri": "https://localhost:8080/",
          "height": 236
        },
        "id": "FwOaFLO6i4_U",
        "outputId": "5870bd85-c429-4058-f235-59f4604274dc"
      },
      "execution_count": 215,
      "outputs": [
        {
          "output_type": "execute_result",
          "data": {
            "text/plain": [
              "        0         1         2         3         4         5         6    \\\n",
              "0  0.977941  0.926471  0.681373  0.245098  0.154412  0.191176  0.151961   \n",
              "1  0.960114  0.863248  0.461538  0.196581  0.094017  0.125356  0.099715   \n",
              "2  1.000000  0.659459  0.186486  0.070270  0.070270  0.059459  0.056757   \n",
              "3  0.925414  0.665746  0.541436  0.276243  0.196133  0.077348  0.071823   \n",
              "4  0.967136  1.000000  0.830986  0.586854  0.356808  0.248826  0.145540   \n",
              "\n",
              "        7         8         9    ...  178  179  180  181  182  183  184  185  \\\n",
              "0  0.085784  0.058824  0.049020  ...  0.0  0.0  0.0  0.0  0.0  0.0  0.0  0.0   \n",
              "1  0.088319  0.074074  0.082621  ...  0.0  0.0  0.0  0.0  0.0  0.0  0.0  0.0   \n",
              "2  0.043243  0.054054  0.045946  ...  0.0  0.0  0.0  0.0  0.0  0.0  0.0  0.0   \n",
              "3  0.060773  0.066298  0.058011  ...  0.0  0.0  0.0  0.0  0.0  0.0  0.0  0.0   \n",
              "4  0.089202  0.117371  0.150235  ...  0.0  0.0  0.0  0.0  0.0  0.0  0.0  0.0   \n",
              "\n",
              "   186  187  \n",
              "0  0.0  0.0  \n",
              "1  0.0  0.0  \n",
              "2  0.0  0.0  \n",
              "3  0.0  0.0  \n",
              "4  0.0  0.0  \n",
              "\n",
              "[5 rows x 188 columns]"
            ],
            "text/html": [
              "\n",
              "  <div id=\"df-f91b9313-9e42-4bdc-aa37-0573a50ae61d\">\n",
              "    <div class=\"colab-df-container\">\n",
              "      <div>\n",
              "<style scoped>\n",
              "    .dataframe tbody tr th:only-of-type {\n",
              "        vertical-align: middle;\n",
              "    }\n",
              "\n",
              "    .dataframe tbody tr th {\n",
              "        vertical-align: top;\n",
              "    }\n",
              "\n",
              "    .dataframe thead th {\n",
              "        text-align: right;\n",
              "    }\n",
              "</style>\n",
              "<table border=\"1\" class=\"dataframe\">\n",
              "  <thead>\n",
              "    <tr style=\"text-align: right;\">\n",
              "      <th></th>\n",
              "      <th>0</th>\n",
              "      <th>1</th>\n",
              "      <th>2</th>\n",
              "      <th>3</th>\n",
              "      <th>4</th>\n",
              "      <th>5</th>\n",
              "      <th>6</th>\n",
              "      <th>7</th>\n",
              "      <th>8</th>\n",
              "      <th>9</th>\n",
              "      <th>...</th>\n",
              "      <th>178</th>\n",
              "      <th>179</th>\n",
              "      <th>180</th>\n",
              "      <th>181</th>\n",
              "      <th>182</th>\n",
              "      <th>183</th>\n",
              "      <th>184</th>\n",
              "      <th>185</th>\n",
              "      <th>186</th>\n",
              "      <th>187</th>\n",
              "    </tr>\n",
              "  </thead>\n",
              "  <tbody>\n",
              "    <tr>\n",
              "      <th>0</th>\n",
              "      <td>0.977941</td>\n",
              "      <td>0.926471</td>\n",
              "      <td>0.681373</td>\n",
              "      <td>0.245098</td>\n",
              "      <td>0.154412</td>\n",
              "      <td>0.191176</td>\n",
              "      <td>0.151961</td>\n",
              "      <td>0.085784</td>\n",
              "      <td>0.058824</td>\n",
              "      <td>0.049020</td>\n",
              "      <td>...</td>\n",
              "      <td>0.0</td>\n",
              "      <td>0.0</td>\n",
              "      <td>0.0</td>\n",
              "      <td>0.0</td>\n",
              "      <td>0.0</td>\n",
              "      <td>0.0</td>\n",
              "      <td>0.0</td>\n",
              "      <td>0.0</td>\n",
              "      <td>0.0</td>\n",
              "      <td>0.0</td>\n",
              "    </tr>\n",
              "    <tr>\n",
              "      <th>1</th>\n",
              "      <td>0.960114</td>\n",
              "      <td>0.863248</td>\n",
              "      <td>0.461538</td>\n",
              "      <td>0.196581</td>\n",
              "      <td>0.094017</td>\n",
              "      <td>0.125356</td>\n",
              "      <td>0.099715</td>\n",
              "      <td>0.088319</td>\n",
              "      <td>0.074074</td>\n",
              "      <td>0.082621</td>\n",
              "      <td>...</td>\n",
              "      <td>0.0</td>\n",
              "      <td>0.0</td>\n",
              "      <td>0.0</td>\n",
              "      <td>0.0</td>\n",
              "      <td>0.0</td>\n",
              "      <td>0.0</td>\n",
              "      <td>0.0</td>\n",
              "      <td>0.0</td>\n",
              "      <td>0.0</td>\n",
              "      <td>0.0</td>\n",
              "    </tr>\n",
              "    <tr>\n",
              "      <th>2</th>\n",
              "      <td>1.000000</td>\n",
              "      <td>0.659459</td>\n",
              "      <td>0.186486</td>\n",
              "      <td>0.070270</td>\n",
              "      <td>0.070270</td>\n",
              "      <td>0.059459</td>\n",
              "      <td>0.056757</td>\n",
              "      <td>0.043243</td>\n",
              "      <td>0.054054</td>\n",
              "      <td>0.045946</td>\n",
              "      <td>...</td>\n",
              "      <td>0.0</td>\n",
              "      <td>0.0</td>\n",
              "      <td>0.0</td>\n",
              "      <td>0.0</td>\n",
              "      <td>0.0</td>\n",
              "      <td>0.0</td>\n",
              "      <td>0.0</td>\n",
              "      <td>0.0</td>\n",
              "      <td>0.0</td>\n",
              "      <td>0.0</td>\n",
              "    </tr>\n",
              "    <tr>\n",
              "      <th>3</th>\n",
              "      <td>0.925414</td>\n",
              "      <td>0.665746</td>\n",
              "      <td>0.541436</td>\n",
              "      <td>0.276243</td>\n",
              "      <td>0.196133</td>\n",
              "      <td>0.077348</td>\n",
              "      <td>0.071823</td>\n",
              "      <td>0.060773</td>\n",
              "      <td>0.066298</td>\n",
              "      <td>0.058011</td>\n",
              "      <td>...</td>\n",
              "      <td>0.0</td>\n",
              "      <td>0.0</td>\n",
              "      <td>0.0</td>\n",
              "      <td>0.0</td>\n",
              "      <td>0.0</td>\n",
              "      <td>0.0</td>\n",
              "      <td>0.0</td>\n",
              "      <td>0.0</td>\n",
              "      <td>0.0</td>\n",
              "      <td>0.0</td>\n",
              "    </tr>\n",
              "    <tr>\n",
              "      <th>4</th>\n",
              "      <td>0.967136</td>\n",
              "      <td>1.000000</td>\n",
              "      <td>0.830986</td>\n",
              "      <td>0.586854</td>\n",
              "      <td>0.356808</td>\n",
              "      <td>0.248826</td>\n",
              "      <td>0.145540</td>\n",
              "      <td>0.089202</td>\n",
              "      <td>0.117371</td>\n",
              "      <td>0.150235</td>\n",
              "      <td>...</td>\n",
              "      <td>0.0</td>\n",
              "      <td>0.0</td>\n",
              "      <td>0.0</td>\n",
              "      <td>0.0</td>\n",
              "      <td>0.0</td>\n",
              "      <td>0.0</td>\n",
              "      <td>0.0</td>\n",
              "      <td>0.0</td>\n",
              "      <td>0.0</td>\n",
              "      <td>0.0</td>\n",
              "    </tr>\n",
              "  </tbody>\n",
              "</table>\n",
              "<p>5 rows × 188 columns</p>\n",
              "</div>\n",
              "      <button class=\"colab-df-convert\" onclick=\"convertToInteractive('df-f91b9313-9e42-4bdc-aa37-0573a50ae61d')\"\n",
              "              title=\"Convert this dataframe to an interactive table.\"\n",
              "              style=\"display:none;\">\n",
              "        \n",
              "  <svg xmlns=\"http://www.w3.org/2000/svg\" height=\"24px\"viewBox=\"0 0 24 24\"\n",
              "       width=\"24px\">\n",
              "    <path d=\"M0 0h24v24H0V0z\" fill=\"none\"/>\n",
              "    <path d=\"M18.56 5.44l.94 2.06.94-2.06 2.06-.94-2.06-.94-.94-2.06-.94 2.06-2.06.94zm-11 1L8.5 8.5l.94-2.06 2.06-.94-2.06-.94L8.5 2.5l-.94 2.06-2.06.94zm10 10l.94 2.06.94-2.06 2.06-.94-2.06-.94-.94-2.06-.94 2.06-2.06.94z\"/><path d=\"M17.41 7.96l-1.37-1.37c-.4-.4-.92-.59-1.43-.59-.52 0-1.04.2-1.43.59L10.3 9.45l-7.72 7.72c-.78.78-.78 2.05 0 2.83L4 21.41c.39.39.9.59 1.41.59.51 0 1.02-.2 1.41-.59l7.78-7.78 2.81-2.81c.8-.78.8-2.07 0-2.86zM5.41 20L4 18.59l7.72-7.72 1.47 1.35L5.41 20z\"/>\n",
              "  </svg>\n",
              "      </button>\n",
              "      \n",
              "  <style>\n",
              "    .colab-df-container {\n",
              "      display:flex;\n",
              "      flex-wrap:wrap;\n",
              "      gap: 12px;\n",
              "    }\n",
              "\n",
              "    .colab-df-convert {\n",
              "      background-color: #E8F0FE;\n",
              "      border: none;\n",
              "      border-radius: 50%;\n",
              "      cursor: pointer;\n",
              "      display: none;\n",
              "      fill: #1967D2;\n",
              "      height: 32px;\n",
              "      padding: 0 0 0 0;\n",
              "      width: 32px;\n",
              "    }\n",
              "\n",
              "    .colab-df-convert:hover {\n",
              "      background-color: #E2EBFA;\n",
              "      box-shadow: 0px 1px 2px rgba(60, 64, 67, 0.3), 0px 1px 3px 1px rgba(60, 64, 67, 0.15);\n",
              "      fill: #174EA6;\n",
              "    }\n",
              "\n",
              "    [theme=dark] .colab-df-convert {\n",
              "      background-color: #3B4455;\n",
              "      fill: #D2E3FC;\n",
              "    }\n",
              "\n",
              "    [theme=dark] .colab-df-convert:hover {\n",
              "      background-color: #434B5C;\n",
              "      box-shadow: 0px 1px 3px 1px rgba(0, 0, 0, 0.15);\n",
              "      filter: drop-shadow(0px 1px 2px rgba(0, 0, 0, 0.3));\n",
              "      fill: #FFFFFF;\n",
              "    }\n",
              "  </style>\n",
              "\n",
              "      <script>\n",
              "        const buttonEl =\n",
              "          document.querySelector('#df-f91b9313-9e42-4bdc-aa37-0573a50ae61d button.colab-df-convert');\n",
              "        buttonEl.style.display =\n",
              "          google.colab.kernel.accessAllowed ? 'block' : 'none';\n",
              "\n",
              "        async function convertToInteractive(key) {\n",
              "          const element = document.querySelector('#df-f91b9313-9e42-4bdc-aa37-0573a50ae61d');\n",
              "          const dataTable =\n",
              "            await google.colab.kernel.invokeFunction('convertToInteractive',\n",
              "                                                     [key], {});\n",
              "          if (!dataTable) return;\n",
              "\n",
              "          const docLinkHtml = 'Like what you see? Visit the ' +\n",
              "            '<a target=\"_blank\" href=https://colab.research.google.com/notebooks/data_table.ipynb>data table notebook</a>'\n",
              "            + ' to learn more about interactive tables.';\n",
              "          element.innerHTML = '';\n",
              "          dataTable['output_type'] = 'display_data';\n",
              "          await google.colab.output.renderOutput(dataTable, element);\n",
              "          const docLink = document.createElement('div');\n",
              "          docLink.innerHTML = docLinkHtml;\n",
              "          element.appendChild(docLink);\n",
              "        }\n",
              "      </script>\n",
              "    </div>\n",
              "  </div>\n",
              "  "
            ]
          },
          "metadata": {},
          "execution_count": 215
        }
      ]
    },
    {
      "cell_type": "code",
      "source": [
        "# Check training data shape\n",
        "df_train.shape"
      ],
      "metadata": {
        "colab": {
          "base_uri": "https://localhost:8080/"
        },
        "id": "ELwJIsyHjZ6b",
        "outputId": "1b6d7f71-1263-4244-cde6-e86da80ca6b0"
      },
      "execution_count": 216,
      "outputs": [
        {
          "output_type": "execute_result",
          "data": {
            "text/plain": [
              "(87554, 188)"
            ]
          },
          "metadata": {},
          "execution_count": 216
        }
      ]
    },
    {
      "cell_type": "code",
      "source": [
        "df_train_features, df_train_labels = df_train.iloc[:,:-1], df_train.iloc[:,[-1]]"
      ],
      "metadata": {
        "id": "ixkMux_Qjuej"
      },
      "execution_count": 217,
      "outputs": []
    },
    {
      "cell_type": "code",
      "source": [
        "# Check which classes are present in the data\n",
        "df_train_labels[187].unique()"
      ],
      "metadata": {
        "colab": {
          "base_uri": "https://localhost:8080/"
        },
        "id": "TIVXT3JFkeUC",
        "outputId": "4360b11f-36fb-4324-9da6-72e3921783f5"
      },
      "execution_count": 218,
      "outputs": [
        {
          "output_type": "execute_result",
          "data": {
            "text/plain": [
              "array([0., 1., 2., 3., 4.])"
            ]
          },
          "metadata": {},
          "execution_count": 218
        }
      ]
    },
    {
      "cell_type": "code",
      "source": [
        "# plot example of ECG signal\n",
        "df_train.iloc[0].plot(kind = 'line')\n",
        "plt.show()"
      ],
      "metadata": {
        "colab": {
          "base_uri": "https://localhost:8080/",
          "height": 265
        },
        "id": "5zTU9YlxkgZZ",
        "outputId": "850df540-a462-4ab2-c46e-d50f168f52a0"
      },
      "execution_count": 219,
      "outputs": [
        {
          "output_type": "display_data",
          "data": {
            "text/plain": [
              "<Figure size 432x288 with 1 Axes>"
            ],
            "image/png": "[encoded data removed]"
          },
          "metadata": {}
        }
      ]
    },
    {
      "cell_type": "code",
      "source": [
        "# Save location indices of different classes into variables\n",
        "class_1_indices = df_train_labels.index[df_train_labels[187] == 0].tolist()\n",
        "class_2_indices = df_train_labels.index[df_train_labels[187] == 1].tolist()\n",
        "class_3_indices = df_train_labels.index[df_train_labels[187] == 2].tolist()\n",
        "class_4_indices = df_train_labels.index[df_train_labels[187] == 3].tolist()\n",
        "class_5_indices = df_train_labels.index[df_train_labels[187] == 4].tolist()\n"
      ],
      "metadata": {
        "id": "dPrLnOoDl4Kf"
      },
      "execution_count": 220,
      "outputs": []
    },
    {
      "cell_type": "code",
      "source": [
        "# Visualize examples of different ECG classes\n",
        "fig, axs = plt.subplots(5, 1)\n",
        "axs[0].plot(df_train.iloc[class_1_indices[1]])\n",
        "axs[0].set_title('Class 0')\n",
        "axs[1].plot(df_train.iloc[class_2_indices[1]])\n",
        "axs[1].set_title('Class 1')\n",
        "axs[2].plot(df_train.iloc[class_3_indices[1]])\n",
        "axs[2].set_title('Class 2')\n",
        "axs[3].plot(df_train.iloc[class_4_indices[1]])\n",
        "axs[3].set_title('Class 3')\n",
        "axs[4].plot(df_train.iloc[class_5_indices[1]])\n",
        "axs[4].set_title('Class 4')\n",
        "fig.set_figheight(10)\n",
        "fig.set_figwidth(10)\n",
        "fig.tight_layout()\n",
        "plt.savefig('/content/drive/My Drive/ECG Project/downloads/classes.png')\n"
      ],
      "metadata": {
        "colab": {
          "base_uri": "https://localhost:8080/",
          "height": 729
        },
        "id": "ayveqxxTmFOX",
        "outputId": "c31c32c3-c96a-43b2-a61c-3a74b49d5086"
      },
      "execution_count": 293,
      "outputs": [
        {
          "output_type": "display_data",
          "data": {
            "text/plain": [
              "<Figure size 720x720 with 5 Axes>"
            ],
            "image/png": "[encoded data removed]"
          },
          "metadata": {}
        }
      ]
    },
    {
      "cell_type": "markdown",
      "source": [
        "## Sample Dataset"
      ],
      "metadata": {
        "id": "elSwW56f883k"
      }
    },
    {
      "cell_type": "code",
      "source": [
        "print(\"Number of of class 1 entries = \" + str(len(class_1_indices)))\n",
        "print(\"\\nNumber of of class 2 entries = \" + str(len(class_2_indices)))\n",
        "print(\"\\nNumber of of class 3 entries = \" + str(len(class_3_indices)))\n",
        "print(\"\\nNumber of of class 4 entries = \" + str(len(class_4_indices)))\n",
        "print(\"\\nNumber of of class 5 entries = \" + str(len(class_5_indices)))"
      ],
      "metadata": {
        "colab": {
          "base_uri": "https://localhost:8080/"
        },
        "id": "aP5uIZpJ2ypQ",
        "outputId": "17f13922-54c9-4260-e3e6-037e108eb88b"
      },
      "execution_count": 222,
      "outputs": [
        {
          "output_type": "stream",
          "name": "stdout",
          "text": [
            "Number of of class 1 entries = 72471\n",
            "\n",
            "Number of of class 2 entries = 2223\n",
            "\n",
            "Number of of class 3 entries = 5788\n",
            "\n",
            "Number of of class 4 entries = 641\n",
            "\n",
            "Number of of class 5 entries = 6431\n"
          ]
        }
      ]
    },
    {
      "cell_type": "code",
      "source": [
        "# Stratified sampling of 600 datapoints per class\n",
        "\n",
        "df_0 = df_train_features.iloc[class_1_indices]\n",
        "df_1 = df_train_features.iloc[class_2_indices]\n",
        "df_2 = df_train_features.iloc[class_3_indices]\n",
        "df_3 = df_train_features.iloc[class_4_indices]\n",
        "df_4 = df_train_features.iloc[class_5_indices]\n",
        "\n",
        "sample_size = 600\n",
        "df_0_sampled = df_0.sample(n = sample_size*2)\n",
        "df_1_sampled = df_1.sample(n = sample_size)\n",
        "df_2_sampled = df_2.sample(n= sample_size)\n",
        "df_3_sampled = df_3.sample(n = sample_size)\n",
        "df_4_sampled = df_4.sample(n = sample_size)  \n",
        "\n",
        "df_sampled = pd.concat([df_0_sampled, df_1_sampled, df_2_sampled, df_3_sampled, df_4_sampled], axis = 0)\n"
      ],
      "metadata": {
        "id": "GdT7XK9_87q0"
      },
      "execution_count": 223,
      "outputs": []
    },
    {
      "cell_type": "code",
      "source": [
        "df_sampled.head()"
      ],
      "metadata": {
        "colab": {
          "base_uri": "https://localhost:8080/",
          "height": 236
        },
        "id": "5ICjPLQfAJWM",
        "outputId": "0dd96cb2-eb6f-4e1c-8c2d-3515179d2c38"
      },
      "execution_count": 224,
      "outputs": [
        {
          "output_type": "execute_result",
          "data": {
            "text/plain": [
              "            0         1         2         3         4         5         6    \\\n",
              "14704  1.000000  0.727619  0.000000  0.076190  0.072381  0.106667  0.156190   \n",
              "8218   0.950673  0.937220  0.558296  0.273543  0.215247  0.253363  0.237668   \n",
              "26038  0.962672  0.840864  0.176817  0.000000  0.088409  0.123772  0.119843   \n",
              "59958  0.954545  0.518182  0.000000  0.150000  0.186364  0.159091  0.145455   \n",
              "45101  0.662214  0.431298  0.047710  0.040076  0.022901  0.003817  0.019084   \n",
              "\n",
              "            7         8         9    ...  177  178  179  180  181  182  183  \\\n",
              "14704  0.154286  0.160000  0.154286  ...  0.0  0.0  0.0  0.0  0.0  0.0  0.0   \n",
              "8218   0.195067  0.163677  0.125561  ...  0.0  0.0  0.0  0.0  0.0  0.0  0.0   \n",
              "26038  0.110020  0.108055  0.094303  ...  0.0  0.0  0.0  0.0  0.0  0.0  0.0   \n",
              "59958  0.209091  0.186364  0.213636  ...  0.0  0.0  0.0  0.0  0.0  0.0  0.0   \n",
              "45101  0.000000  0.005725  0.034351  ...  0.0  0.0  0.0  0.0  0.0  0.0  0.0   \n",
              "\n",
              "       184  185  186  \n",
              "14704  0.0  0.0  0.0  \n",
              "8218   0.0  0.0  0.0  \n",
              "26038  0.0  0.0  0.0  \n",
              "59958  0.0  0.0  0.0  \n",
              "45101  0.0  0.0  0.0  \n",
              "\n",
              "[5 rows x 187 columns]"
            ],
            "text/html": [
              "\n",
              "  <div id=\"df-026465b4-d093-4cbf-8707-2b63f4c34a0b\">\n",
              "    <div class=\"colab-df-container\">\n",
              "      <div>\n",
              "<style scoped>\n",
              "    .dataframe tbody tr th:only-of-type {\n",
              "        vertical-align: middle;\n",
              "    }\n",
              "\n",
              "    .dataframe tbody tr th {\n",
              "        vertical-align: top;\n",
              "    }\n",
              "\n",
              "    .dataframe thead th {\n",
              "        text-align: right;\n",
              "    }\n",
              "</style>\n",
              "<table border=\"1\" class=\"dataframe\">\n",
              "  <thead>\n",
              "    <tr style=\"text-align: right;\">\n",
              "      <th></th>\n",
              "      <th>0</th>\n",
              "      <th>1</th>\n",
              "      <th>2</th>\n",
              "      <th>3</th>\n",
              "      <th>4</th>\n",
              "      <th>5</th>\n",
              "      <th>6</th>\n",
              "      <th>7</th>\n",
              "      <th>8</th>\n",
              "      <th>9</th>\n",
              "      <th>...</th>\n",
              "      <th>177</th>\n",
              "      <th>178</th>\n",
              "      <th>179</th>\n",
              "      <th>180</th>\n",
              "      <th>181</th>\n",
              "      <th>182</th>\n",
              "      <th>183</th>\n",
              "      <th>184</th>\n",
              "      <th>185</th>\n",
              "      <th>186</th>\n",
              "    </tr>\n",
              "  </thead>\n",
              "  <tbody>\n",
              "    <tr>\n",
              "      <th>14704</th>\n",
              "      <td>1.000000</td>\n",
              "      <td>0.727619</td>\n",
              "      <td>0.000000</td>\n",
              "      <td>0.076190</td>\n",
              "      <td>0.072381</td>\n",
              "      <td>0.106667</td>\n",
              "      <td>0.156190</td>\n",
              "      <td>0.154286</td>\n",
              "      <td>0.160000</td>\n",
              "      <td>0.154286</td>\n",
              "      <td>...</td>\n",
              "      <td>0.0</td>\n",
              "      <td>0.0</td>\n",
              "      <td>0.0</td>\n",
              "      <td>0.0</td>\n",
              "      <td>0.0</td>\n",
              "      <td>0.0</td>\n",
              "      <td>0.0</td>\n",
              "      <td>0.0</td>\n",
              "      <td>0.0</td>\n",
              "      <td>0.0</td>\n",
              "    </tr>\n",
              "    <tr>\n",
              "      <th>8218</th>\n",
              "      <td>0.950673</td>\n",
              "      <td>0.937220</td>\n",
              "      <td>0.558296</td>\n",
              "      <td>0.273543</td>\n",
              "      <td>0.215247</td>\n",
              "      <td>0.253363</td>\n",
              "      <td>0.237668</td>\n",
              "      <td>0.195067</td>\n",
              "      <td>0.163677</td>\n",
              "      <td>0.125561</td>\n",
              "      <td>...</td>\n",
              "      <td>0.0</td>\n",
              "      <td>0.0</td>\n",
              "      <td>0.0</td>\n",
              "      <td>0.0</td>\n",
              "      <td>0.0</td>\n",
              "      <td>0.0</td>\n",
              "      <td>0.0</td>\n",
              "      <td>0.0</td>\n",
              "      <td>0.0</td>\n",
              "      <td>0.0</td>\n",
              "    </tr>\n",
              "    <tr>\n",
              "      <th>26038</th>\n",
              "      <td>0.962672</td>\n",
              "      <td>0.840864</td>\n",
              "      <td>0.176817</td>\n",
              "      <td>0.000000</td>\n",
              "      <td>0.088409</td>\n",
              "      <td>0.123772</td>\n",
              "      <td>0.119843</td>\n",
              "      <td>0.110020</td>\n",
              "      <td>0.108055</td>\n",
              "      <td>0.094303</td>\n",
              "      <td>...</td>\n",
              "      <td>0.0</td>\n",
              "      <td>0.0</td>\n",
              "      <td>0.0</td>\n",
              "      <td>0.0</td>\n",
              "      <td>0.0</td>\n",
              "      <td>0.0</td>\n",
              "      <td>0.0</td>\n",
              "      <td>0.0</td>\n",
              "      <td>0.0</td>\n",
              "      <td>0.0</td>\n",
              "    </tr>\n",
              "    <tr>\n",
              "      <th>59958</th>\n",
              "      <td>0.954545</td>\n",
              "      <td>0.518182</td>\n",
              "      <td>0.000000</td>\n",
              "      <td>0.150000</td>\n",
              "      <td>0.186364</td>\n",
              "      <td>0.159091</td>\n",
              "      <td>0.145455</td>\n",
              "      <td>0.209091</td>\n",
              "      <td>0.186364</td>\n",
              "      <td>0.213636</td>\n",
              "      <td>...</td>\n",
              "      <td>0.0</td>\n",
              "      <td>0.0</td>\n",
              "      <td>0.0</td>\n",
              "      <td>0.0</td>\n",
              "      <td>0.0</td>\n",
              "      <td>0.0</td>\n",
              "      <td>0.0</td>\n",
              "      <td>0.0</td>\n",
              "      <td>0.0</td>\n",
              "      <td>0.0</td>\n",
              "    </tr>\n",
              "    <tr>\n",
              "      <th>45101</th>\n",
              "      <td>0.662214</td>\n",
              "      <td>0.431298</td>\n",
              "      <td>0.047710</td>\n",
              "      <td>0.040076</td>\n",
              "      <td>0.022901</td>\n",
              "      <td>0.003817</td>\n",
              "      <td>0.019084</td>\n",
              "      <td>0.000000</td>\n",
              "      <td>0.005725</td>\n",
              "      <td>0.034351</td>\n",
              "      <td>...</td>\n",
              "      <td>0.0</td>\n",
              "      <td>0.0</td>\n",
              "      <td>0.0</td>\n",
              "      <td>0.0</td>\n",
              "      <td>0.0</td>\n",
              "      <td>0.0</td>\n",
              "      <td>0.0</td>\n",
              "      <td>0.0</td>\n",
              "      <td>0.0</td>\n",
              "      <td>0.0</td>\n",
              "    </tr>\n",
              "  </tbody>\n",
              "</table>\n",
              "<p>5 rows × 187 columns</p>\n",
              "</div>\n",
              "      <button class=\"colab-df-convert\" onclick=\"convertToInteractive('df-026465b4-d093-4cbf-8707-2b63f4c34a0b')\"\n",
              "              title=\"Convert this dataframe to an interactive table.\"\n",
              "              style=\"display:none;\">\n",
              "        \n",
              "  <svg xmlns=\"http://www.w3.org/2000/svg\" height=\"24px\"viewBox=\"0 0 24 24\"\n",
              "       width=\"24px\">\n",
              "    <path d=\"M0 0h24v24H0V0z\" fill=\"none\"/>\n",
              "    <path d=\"M18.56 5.44l.94 2.06.94-2.06 2.06-.94-2.06-.94-.94-2.06-.94 2.06-2.06.94zm-11 1L8.5 8.5l.94-2.06 2.06-.94-2.06-.94L8.5 2.5l-.94 2.06-2.06.94zm10 10l.94 2.06.94-2.06 2.06-.94-2.06-.94-.94-2.06-.94 2.06-2.06.94z\"/><path d=\"M17.41 7.96l-1.37-1.37c-.4-.4-.92-.59-1.43-.59-.52 0-1.04.2-1.43.59L10.3 9.45l-7.72 7.72c-.78.78-.78 2.05 0 2.83L4 21.41c.39.39.9.59 1.41.59.51 0 1.02-.2 1.41-.59l7.78-7.78 2.81-2.81c.8-.78.8-2.07 0-2.86zM5.41 20L4 18.59l7.72-7.72 1.47 1.35L5.41 20z\"/>\n",
              "  </svg>\n",
              "      </button>\n",
              "      \n",
              "  <style>\n",
              "    .colab-df-container {\n",
              "      display:flex;\n",
              "      flex-wrap:wrap;\n",
              "      gap: 12px;\n",
              "    }\n",
              "\n",
              "    .colab-df-convert {\n",
              "      background-color: #E8F0FE;\n",
              "      border: none;\n",
              "      border-radius: 50%;\n",
              "      cursor: pointer;\n",
              "      display: none;\n",
              "      fill: #1967D2;\n",
              "      height: 32px;\n",
              "      padding: 0 0 0 0;\n",
              "      width: 32px;\n",
              "    }\n",
              "\n",
              "    .colab-df-convert:hover {\n",
              "      background-color: #E2EBFA;\n",
              "      box-shadow: 0px 1px 2px rgba(60, 64, 67, 0.3), 0px 1px 3px 1px rgba(60, 64, 67, 0.15);\n",
              "      fill: #174EA6;\n",
              "    }\n",
              "\n",
              "    [theme=dark] .colab-df-convert {\n",
              "      background-color: #3B4455;\n",
              "      fill: #D2E3FC;\n",
              "    }\n",
              "\n",
              "    [theme=dark] .colab-df-convert:hover {\n",
              "      background-color: #434B5C;\n",
              "      box-shadow: 0px 1px 3px 1px rgba(0, 0, 0, 0.15);\n",
              "      filter: drop-shadow(0px 1px 2px rgba(0, 0, 0, 0.3));\n",
              "      fill: #FFFFFF;\n",
              "    }\n",
              "  </style>\n",
              "\n",
              "      <script>\n",
              "        const buttonEl =\n",
              "          document.querySelector('#df-026465b4-d093-4cbf-8707-2b63f4c34a0b button.colab-df-convert');\n",
              "        buttonEl.style.display =\n",
              "          google.colab.kernel.accessAllowed ? 'block' : 'none';\n",
              "\n",
              "        async function convertToInteractive(key) {\n",
              "          const element = document.querySelector('#df-026465b4-d093-4cbf-8707-2b63f4c34a0b');\n",
              "          const dataTable =\n",
              "            await google.colab.kernel.invokeFunction('convertToInteractive',\n",
              "                                                     [key], {});\n",
              "          if (!dataTable) return;\n",
              "\n",
              "          const docLinkHtml = 'Like what you see? Visit the ' +\n",
              "            '<a target=\"_blank\" href=https://colab.research.google.com/notebooks/data_table.ipynb>data table notebook</a>'\n",
              "            + ' to learn more about interactive tables.';\n",
              "          element.innerHTML = '';\n",
              "          dataTable['output_type'] = 'display_data';\n",
              "          await google.colab.output.renderOutput(dataTable, element);\n",
              "          const docLink = document.createElement('div');\n",
              "          docLink.innerHTML = docLinkHtml;\n",
              "          element.appendChild(docLink);\n",
              "        }\n",
              "      </script>\n",
              "    </div>\n",
              "  </div>\n",
              "  "
            ]
          },
          "metadata": {},
          "execution_count": 224
        }
      ]
    },
    {
      "cell_type": "code",
      "source": [
        "# Get sampled indices to a list\n",
        "sampled_indices = df_sampled.index.to_list()"
      ],
      "metadata": {
        "id": "0DB0j5T2BTFD"
      },
      "execution_count": 225,
      "outputs": []
    },
    {
      "cell_type": "code",
      "source": [
        "# Get labels of sampled data\n",
        "df_sampled_labels = df_train_labels.iloc[sampled_indices]"
      ],
      "metadata": {
        "id": "84eaSypRBcJZ"
      },
      "execution_count": 226,
      "outputs": []
    },
    {
      "cell_type": "code",
      "source": [
        "# See how many classes are present in sampled data\n",
        "df_sampled_labels[187].unique()"
      ],
      "metadata": {
        "colab": {
          "base_uri": "https://localhost:8080/"
        },
        "id": "La7BM4IMBsGR",
        "outputId": "547986e5-ddd9-4d18-d4bc-8cf1aecda69b"
      },
      "execution_count": 227,
      "outputs": [
        {
          "output_type": "execute_result",
          "data": {
            "text/plain": [
              "array([0., 1., 2., 3., 4.])"
            ]
          },
          "metadata": {},
          "execution_count": 227
        }
      ]
    },
    {
      "cell_type": "markdown",
      "source": [
        "## Converting ECG Signals to Wavelets"
      ],
      "metadata": {
        "id": "CRxslzUZq9JQ"
      }
    },
    {
      "cell_type": "code",
      "source": [
        "from scipy import signal\n",
        "# Plot example of a wavelet transform\n",
        "\n",
        "sample = df_train_features.iloc[class_3_indices[3]].to_numpy()\n",
        "\n",
        "t = np.linspace(0, 0.01, 2, endpoint=False)\n",
        "widths = np.arange(1, 31)\n",
        "cwtmatr = signal.cwt(sample, signal.ricker, widths)\n",
        "\n",
        "cwtmatr_yflip = np.flipud(cwtmatr)\n",
        "plt.imshow(cwtmatr_yflip,extent=[0, 2, 1, 50], cmap='viridis', aspect='auto',\n",
        "           vmax=abs(cwtmatr).max(), vmin=-abs(cwtmatr).max())\n",
        "plt.show()\n",
        "plt.savefig('/content/drive/My Drive/ECG Project/downloads/wavelet.png')"
      ],
      "metadata": {
        "colab": {
          "base_uri": "https://localhost:8080/",
          "height": 286
        },
        "id": "kTmHdjUYoOhk",
        "outputId": "ad207c68-c9ce-4b2c-cd6c-16deb0bf89ff"
      },
      "execution_count": 294,
      "outputs": [
        {
          "output_type": "display_data",
          "data": {
            "text/plain": [
              "<Figure size 432x288 with 1 Axes>"
            ],
            "image/png": "[encoded data removed]"
          },
          "metadata": {}
        },
        {
          "output_type": "display_data",
          "data": {
            "text/plain": [
              "<Figure size 432x288 with 0 Axes>"
            ]
          },
          "metadata": {}
        }
      ]
    },
    {
      "cell_type": "code",
      "source": [
        "# define function that makes wavelet transforms when given a row of data\n",
        "def make_cwts(row):\n",
        "  sample = row.to_numpy()\n",
        "  widths = np.arange(1,31)\n",
        "  cwtmatr = signal.cwt(sample, signal.ricker, widths)\n",
        "  cwtmatr_yflip = np.flipud(cwtmatr)\n",
        "  return cwtmatr_yflip\n",
        "\n",
        "  \n"
      ],
      "metadata": {
        "id": "0Fn8BxCUtDW9"
      },
      "execution_count": 229,
      "outputs": []
    },
    {
      "cell_type": "code",
      "source": [
        "# specify folder path where wavelet images will be saved for training\n",
        "output_dir = '/content/drive/My Drive/ECG Project/Output/'"
      ],
      "metadata": {
        "id": "klFzqaXe2cMx"
      },
      "execution_count": 230,
      "outputs": []
    },
    {
      "cell_type": "code",
      "source": [
        "# This section converts the ECG signals into wavelet transforms and saves the images into labelled folders depending on the class.\n",
        "\n",
        "from tqdm.auto import tqdm#\n",
        "import os\n",
        "\n",
        "for row in tqdm(sampled_indices):\n",
        "        current_row = df_sampled.loc[row]\n",
        "        target_dir = 'class_' +  str(int(df_sampled_labels.loc[row].values))            \n",
        "        dist_dir = os.path.join(output_dir, target_dir)\n",
        "        file_dist_path = os.path.join(dist_dir, str(row))\n",
        "        if not os.path.exists(file_dist_path + '.png'):\n",
        "            if not os.path.exists(dist_dir):\n",
        "                os.mkdir(dist_dir)                \n",
        "            cwtmatr_yflip = make_cwts(df_sampled.loc[row])\n",
        "\n",
        "            fig = plt.subplots(figsize=(8, 7))\n",
        "            img = plt.imshow(cwtmatr_yflip,extent=[0, 2, 1, 50], cmap='viridis', aspect='auto',\n",
        "           vmax=abs(cwtmatr).max(), vmin=-abs(cwtmatr).max())\n",
        "            plt.axis('off')\n",
        "            plt.savefig(f'{file_dist_path}.png')\n",
        "            plt.close()\n",
        "\n",
        "            \n",
        "          "
      ],
      "metadata": {
        "colab": {
          "base_uri": "https://localhost:8080/",
          "height": 49,
          "referenced_widgets": [
            "9acf1d68bfae4b15bd96ba9dea1f51c5",
            "c4fcd2b45be6423ca3ea0cf5aa3915d7",
            "16d3ae9653d54a1dbc1e7b9694a3f911",
            "337159a6077c48aeadc271ab09ecfd8b",
            "839ed3db20914ba7afbeee4a4d70ddbc",
            "c0933c06bab84562b91c63766df8258a",
            "ecaca5277fff4e76a6176be235a975d7",
            "ebf296c1d167408a93a0a2d72188497a",
            "09e898671ab342b3a0db0691b99372ac",
            "2ac3983c810e40838771f4a71f29fcd0",
            "55c3140372344d829a8a45f70aafffa4"
          ]
        },
        "id": "dvPSm3tM24QX",
        "outputId": "5878ce73-f5e2-454c-bc4c-31181300c34a"
      },
      "execution_count": 277,
      "outputs": [
        {
          "output_type": "display_data",
          "data": {
            "text/plain": [
              "  0%|          | 0/3600 [00:00<?, ?it/s]"
            ],
            "application/vnd.jupyter.widget-view+json": {
              "version_major": 2,
              "version_minor": 0,
              "model_id": "9acf1d68bfae4b15bd96ba9dea1f51c5"
            }
          },
          "metadata": {}
        }
      ]
    },
    {
      "cell_type": "code",
      "source": [
        "# Split wavelet transform images into training and validation\n",
        "import tensorflow as tf\n",
        "SIZE = 256\n",
        "BATCH_SIZE = 32\n",
        "train_dataset = tf.keras.preprocessing.image_dataset_from_directory(\n",
        "                                             batch_size=BATCH_SIZE,\n",
        "                                             validation_split=0.2,\n",
        "                                             directory=output_dir,\n",
        "                                             shuffle=True,\n",
        "                                             color_mode='rgb',\n",
        "                                             image_size=(SIZE, SIZE),\n",
        "                                             subset=\"training\",\n",
        "                                             seed=0,\n",
        "                                             label_mode = 'categorical');\n",
        "\n",
        "validation_dataset = tf.keras.preprocessing.image_dataset_from_directory(\n",
        "                                             batch_size=BATCH_SIZE,\n",
        "                                             validation_split=0.2,\n",
        "                                             directory=output_dir,\n",
        "                                             shuffle=True,\n",
        "                                             color_mode='rgb',\n",
        "                                             image_size=(SIZE, SIZE),\n",
        "                                             subset=\"validation\",\n",
        "                                             seed=0,\n",
        "                                             label_mode = 'categorical');"
      ],
      "metadata": {
        "colab": {
          "base_uri": "https://localhost:8080/"
        },
        "id": "X8ml56oqwjuY",
        "outputId": "90490345-5b69-4393-ec7c-1ea7b6429b7a"
      },
      "execution_count": 278,
      "outputs": [
        {
          "output_type": "stream",
          "name": "stdout",
          "text": [
            "Found 3600 files belonging to 5 classes.\n",
            "Using 2880 files for training.\n",
            "Found 3600 files belonging to 5 classes.\n",
            "Using 720 files for validation.\n"
          ]
        }
      ]
    },
    {
      "cell_type": "code",
      "source": [
        "# Obtain class names from training data. It is worth noting that they are presented in alphabetical order. This is useful during model testing.\n",
        "class_names = train_dataset.class_names\n"
      ],
      "metadata": {
        "id": "OtfpB2SKGA_5"
      },
      "execution_count": 279,
      "outputs": []
    },
    {
      "cell_type": "code",
      "source": [
        "# Display shape of training set\n",
        "train_dataset.element_spec"
      ],
      "metadata": {
        "colab": {
          "base_uri": "https://localhost:8080/"
        },
        "id": "O8SpL8tMGKw0",
        "outputId": "8a7b4afe-f984-415d-b00d-39ec8e90c7b6"
      },
      "execution_count": 280,
      "outputs": [
        {
          "output_type": "execute_result",
          "data": {
            "text/plain": [
              "(TensorSpec(shape=(None, 256, 256, 3), dtype=tf.float32, name=None),\n",
              " TensorSpec(shape=(None, 5), dtype=tf.float32, name=None))"
            ]
          },
          "metadata": {},
          "execution_count": 280
        }
      ]
    },
    {
      "cell_type": "code",
      "source": [
        "# val_batches = tf.data.experimental.cardinality(validation_dataset)\n",
        "# test_dataset = validation_dataset.take(val_batches // 5)\n",
        "# validation_dataset = validation_dataset.skip(val_batches // 5)"
      ],
      "metadata": {
        "id": "gKCCFhguGM_T"
      },
      "execution_count": 235,
      "outputs": []
    },
    {
      "cell_type": "code",
      "source": [
        "# print('Number of validation batches: %d' % tf.data.experimental.cardinality(validation_dataset))\n",
        "# print('Number of test batches: %d' % tf.data.experimental.cardinality(test_dataset))"
      ],
      "metadata": {
        "id": "mDplpuV3GksL"
      },
      "execution_count": 236,
      "outputs": []
    },
    {
      "cell_type": "code",
      "source": [
        "# Use buffered prefetching to load images from disk without having I/O become blocking. This improves performance.\n",
        "AUTOTUNE = tf.data.AUTOTUNE\n",
        "\n",
        "train_dataset = train_dataset.prefetch(buffer_size=AUTOTUNE)\n",
        "validation_dataset = validation_dataset.prefetch(buffer_size=AUTOTUNE)\n",
        "# test_dataset = test_dataset.prefetch(buffer_size=AUTOTUNE)"
      ],
      "metadata": {
        "id": "E2Z-0VngHCYS"
      },
      "execution_count": 281,
      "outputs": []
    },
    {
      "cell_type": "markdown",
      "source": [
        "# Model Development and Evaluation"
      ],
      "metadata": {
        "id": "1nSxhbchHGbP"
      }
    },
    {
      "cell_type": "code",
      "source": [
        "# Use the inception v3 preprocessing function to rescale pixel values\n",
        "preprocess_input = tf.keras.applications.inception_v3.preprocess_input"
      ],
      "metadata": {
        "id": "8xUCIVMEHEji"
      },
      "execution_count": 282,
      "outputs": []
    },
    {
      "cell_type": "code",
      "source": [
        "# Create the base model from the pre-trained model inception v3\n",
        "IMG_SIZE = (256, 256)\n",
        "IMG_SHAPE = IMG_SIZE + (3,)\n",
        "base_model = tf.keras.applications.inception_v3.InceptionV3(input_shape=IMG_SHAPE,\n",
        "                                               include_top=False,\n",
        "                                               weights='imagenet')\n",
        "\n",
        "# For freezing the layer we make use of layer.trainable = False\n",
        "# means that its internal state will not change during training.\n",
        "# model's trainable weights will not be updated during fit(),\n",
        "# and also its state updates will not run.\n",
        "base_model.trainable=False\n",
        "\n",
        "# Create Tensorflow functional model\n",
        "inputs = tf.keras.Input(shape=IMG_SHAPE)\n",
        "x = preprocess_input(inputs)\n",
        "x = base_model(x, training=False)\n",
        "x = tf.keras.layers.BatchNormalization(renorm=True)(x)\n",
        "x = tf.keras.layers.GlobalAveragePooling2D()(x)\n",
        "x = tf.keras.layers.Dropout(0.4)(x)\n",
        "x = tf.keras.layers.Dense(64, activation='relu')(x)\n",
        "x = tf.keras.layers.Dense(10, activation='relu')(x)\n",
        "# The output layer has 5 outputs representing the number of classes in the image dataset.\n",
        "outputs = tf.keras.layers.Dense(5, activation='softmax')(x)\n",
        "model = tf.keras.Model(inputs, outputs)"
      ],
      "metadata": {
        "id": "1PdCADjjHKEi"
      },
      "execution_count": 283,
      "outputs": []
    },
    {
      "cell_type": "code",
      "source": [
        "# categorical cross entropy is taken since its used as a loss function for\n",
        "# multi-class classification problems where there are two or more output labels.\n",
        "# using Adam optimizer for better performance\n",
        "model.compile(optimizer='Adam',loss='categorical_crossentropy',metrics=['accuracy'])"
      ],
      "metadata": {
        "id": "_XOkoxPWHQtC"
      },
      "execution_count": 284,
      "outputs": []
    },
    {
      "cell_type": "code",
      "source": [
        "# Get model summary\n",
        "model.summary()"
      ],
      "metadata": {
        "colab": {
          "base_uri": "https://localhost:8080/"
        },
        "id": "8qtNH0P4HTlC",
        "outputId": "e90a48d1-c9e4-4aa0-a3c6-13bd5379dddf"
      },
      "execution_count": 285,
      "outputs": [
        {
          "output_type": "stream",
          "name": "stdout",
          "text": [
            "Model: \"model_8\"\n",
            "_________________________________________________________________\n",
            " Layer (type)                Output Shape              Param #   \n",
            "=================================================================\n",
            " input_18 (InputLayer)       [(None, 256, 256, 3)]     0         \n",
            "                                                                 \n",
            " tf.math.truediv_8 (TFOpLamb  (None, 256, 256, 3)      0         \n",
            " da)                                                             \n",
            "                                                                 \n",
            " tf.math.subtract_8 (TFOpLam  (None, 256, 256, 3)      0         \n",
            " bda)                                                            \n",
            "                                                                 \n",
            " inception_v3 (Functional)   (None, 6, 6, 2048)        21802784  \n",
            "                                                                 \n",
            " batch_normalization_854 (Ba  (None, 6, 6, 2048)       14336     \n",
            " tchNormalization)                                               \n",
            "                                                                 \n",
            " global_average_pooling2d_8   (None, 2048)             0         \n",
            " (GlobalAveragePooling2D)                                        \n",
            "                                                                 \n",
            " dropout_8 (Dropout)         (None, 2048)              0         \n",
            "                                                                 \n",
            " dense_23 (Dense)            (None, 64)                131136    \n",
            "                                                                 \n",
            " dense_24 (Dense)            (None, 10)                650       \n",
            "                                                                 \n",
            " dense_25 (Dense)            (None, 5)                 55        \n",
            "                                                                 \n",
            "=================================================================\n",
            "Total params: 21,948,961\n",
            "Trainable params: 135,937\n",
            "Non-trainable params: 21,813,024\n",
            "_________________________________________________________________\n"
          ]
        }
      ]
    },
    {
      "cell_type": "code",
      "source": [
        "# early stopping call back\n",
        "early = tf.keras.callbacks.EarlyStopping( patience=10,\n",
        "                                          min_delta=0.001,\n",
        "                                          restore_best_weights=True)"
      ],
      "metadata": {
        "id": "82EflEGlHVVi"
      },
      "execution_count": 286,
      "outputs": []
    },
    {
      "cell_type": "code",
      "source": [
        "# Train model using GPU\n",
        "with tf.device('/device:GPU:0'):\n",
        "  history = model.fit(train_dataset,\n",
        "                    epochs=10,\n",
        "                    validation_data=validation_dataset,\n",
        "                    callbacks = [early])"
      ],
      "metadata": {
        "colab": {
          "base_uri": "https://localhost:8080/"
        },
        "id": "iZEhm_gVHXb6",
        "outputId": "e23f0625-46bf-4867-e5dc-d758d80dedaa"
      },
      "execution_count": 287,
      "outputs": [
        {
          "output_type": "stream",
          "name": "stdout",
          "text": [
            "Epoch 1/10\n",
            "90/90 [==============================] - 21s 167ms/step - loss: 1.1928 - accuracy: 0.5198 - val_loss: 0.8657 - val_accuracy: 0.7222\n",
            "Epoch 2/10\n",
            "90/90 [==============================] - 13s 133ms/step - loss: 0.6498 - accuracy: 0.7889 - val_loss: 0.6212 - val_accuracy: 0.7819\n",
            "Epoch 3/10\n",
            "90/90 [==============================] - 12s 131ms/step - loss: 0.4707 - accuracy: 0.8476 - val_loss: 0.5423 - val_accuracy: 0.8000\n",
            "Epoch 4/10\n",
            "90/90 [==============================] - 12s 131ms/step - loss: 0.3671 - accuracy: 0.8823 - val_loss: 0.4885 - val_accuracy: 0.8264\n",
            "Epoch 5/10\n",
            "90/90 [==============================] - 12s 127ms/step - loss: 0.2990 - accuracy: 0.8986 - val_loss: 0.4521 - val_accuracy: 0.8514\n",
            "Epoch 6/10\n",
            "90/90 [==============================] - 12s 132ms/step - loss: 0.2467 - accuracy: 0.9194 - val_loss: 0.4269 - val_accuracy: 0.8611\n",
            "Epoch 7/10\n",
            "90/90 [==============================] - 13s 133ms/step - loss: 0.2276 - accuracy: 0.9208 - val_loss: 0.4139 - val_accuracy: 0.8639\n",
            "Epoch 8/10\n",
            "90/90 [==============================] - 12s 131ms/step - loss: 0.2048 - accuracy: 0.9264 - val_loss: 0.4131 - val_accuracy: 0.8681\n",
            "Epoch 9/10\n",
            "90/90 [==============================] - 12s 129ms/step - loss: 0.1786 - accuracy: 0.9358 - val_loss: 0.4704 - val_accuracy: 0.8486\n",
            "Epoch 10/10\n",
            "90/90 [==============================] - 12s 126ms/step - loss: 0.1755 - accuracy: 0.9389 - val_loss: 0.4398 - val_accuracy: 0.8667\n"
          ]
        }
      ]
    },
    {
      "cell_type": "code",
      "source": [
        "# Plot accuracy and loss graphs\n",
        "acc = history.history['accuracy']\n",
        "val_acc = history.history['val_accuracy']\n",
        "\n",
        "loss = history.history['loss']\n",
        "val_loss = history.history['val_loss']\n",
        "\n",
        "plt.figure(figsize=(8, 8))\n",
        "plt.subplot(2, 1, 1)\n",
        "plt.plot(acc, label='Training Accuracy')\n",
        "plt.plot(val_acc, label='Validation Accuracy')\n",
        "plt.legend(loc='lower right')\n",
        "plt.ylabel('Accuracy')\n",
        "plt.ylim([min(plt.ylim()),1])\n",
        "plt.title('Training and Validation Accuracy')\n",
        "\n",
        "plt.subplot(2, 1, 2)\n",
        "plt.plot(loss, label='Training Loss')\n",
        "plt.plot(val_loss, label='Validation Loss')\n",
        "plt.legend(loc='upper right')\n",
        "plt.ylabel('Cross Entropy')\n",
        "plt.ylim([0,3.0])\n",
        "plt.title('Training and Validation Loss')\n",
        "plt.xlabel('epoch')\n",
        "plt.show()\n",
        "plt.savefig('/content/drive/My Drive/ECG Project/downloads/accuracy.png')"
      ],
      "metadata": {
        "colab": {
          "base_uri": "https://localhost:8080/",
          "height": 530
        },
        "id": "IGDnSXpEHZlK",
        "outputId": "107ad0d7-494c-445d-d93d-f37ba57475a1"
      },
      "execution_count": 295,
      "outputs": [
        {
          "output_type": "display_data",
          "data": {
            "text/plain": [
              "<Figure size 576x576 with 2 Axes>"
            ],
            "image/png": "[encoded data removed]"
          },
          "metadata": {}
        },
        {
          "output_type": "display_data",
          "data": {
            "text/plain": [
              "<Figure size 432x288 with 0 Axes>"
            ]
          },
          "metadata": {}
        }
      ]
    },
    {
      "cell_type": "markdown",
      "source": [
        "# Test Model"
      ],
      "metadata": {
        "id": "WieHgu1ABy2O"
      }
    },
    {
      "cell_type": "code",
      "source": [
        "df_test.head()"
      ],
      "metadata": {
        "colab": {
          "base_uri": "https://localhost:8080/",
          "height": 236
        },
        "id": "FikLV6E3BxI9",
        "outputId": "d49a089a-0975-46c5-9e75-fa66b441de71"
      },
      "execution_count": 289,
      "outputs": [
        {
          "output_type": "execute_result",
          "data": {
            "text/plain": [
              "        0         1         2         3         4         5         6    \\\n",
              "0  1.000000  0.758264  0.111570  0.000000  0.080579  0.078512  0.066116   \n",
              "1  0.908425  0.783883  0.531136  0.362637  0.366300  0.344322  0.333333   \n",
              "2  0.730088  0.212389  0.000000  0.119469  0.101770  0.101770  0.110619   \n",
              "3  1.000000  0.910417  0.681250  0.472917  0.229167  0.068750  0.000000   \n",
              "4  0.570470  0.399329  0.238255  0.147651  0.000000  0.003356  0.040268   \n",
              "\n",
              "        7         8         9    ...  178  179  180  181  182  183  184  185  \\\n",
              "0  0.049587  0.047521  0.035124  ...  0.0  0.0  0.0  0.0  0.0  0.0  0.0  0.0   \n",
              "1  0.307692  0.296703  0.300366  ...  0.0  0.0  0.0  0.0  0.0  0.0  0.0  0.0   \n",
              "2  0.123894  0.115044  0.132743  ...  0.0  0.0  0.0  0.0  0.0  0.0  0.0  0.0   \n",
              "3  0.004167  0.014583  0.054167  ...  0.0  0.0  0.0  0.0  0.0  0.0  0.0  0.0   \n",
              "4  0.080537  0.070470  0.090604  ...  0.0  0.0  0.0  0.0  0.0  0.0  0.0  0.0   \n",
              "\n",
              "   186  187  \n",
              "0  0.0  0.0  \n",
              "1  0.0  0.0  \n",
              "2  0.0  0.0  \n",
              "3  0.0  0.0  \n",
              "4  0.0  0.0  \n",
              "\n",
              "[5 rows x 188 columns]"
            ],
            "text/html": [
              "\n",
              "  <div id=\"df-ba334ca6-44b8-4440-804f-2234ccd49dfd\">\n",
              "    <div class=\"colab-df-container\">\n",
              "      <div>\n",
              "<style scoped>\n",
              "    .dataframe tbody tr th:only-of-type {\n",
              "        vertical-align: middle;\n",
              "    }\n",
              "\n",
              "    .dataframe tbody tr th {\n",
              "        vertical-align: top;\n",
              "    }\n",
              "\n",
              "    .dataframe thead th {\n",
              "        text-align: right;\n",
              "    }\n",
              "</style>\n",
              "<table border=\"1\" class=\"dataframe\">\n",
              "  <thead>\n",
              "    <tr style=\"text-align: right;\">\n",
              "      <th></th>\n",
              "      <th>0</th>\n",
              "      <th>1</th>\n",
              "      <th>2</th>\n",
              "      <th>3</th>\n",
              "      <th>4</th>\n",
              "      <th>5</th>\n",
              "      <th>6</th>\n",
              "      <th>7</th>\n",
              "      <th>8</th>\n",
              "      <th>9</th>\n",
              "      <th>...</th>\n",
              "      <th>178</th>\n",
              "      <th>179</th>\n",
              "      <th>180</th>\n",
              "      <th>181</th>\n",
              "      <th>182</th>\n",
              "      <th>183</th>\n",
              "      <th>184</th>\n",
              "      <th>185</th>\n",
              "      <th>186</th>\n",
              "      <th>187</th>\n",
              "    </tr>\n",
              "  </thead>\n",
              "  <tbody>\n",
              "    <tr>\n",
              "      <th>0</th>\n",
              "      <td>1.000000</td>\n",
              "      <td>0.758264</td>\n",
              "      <td>0.111570</td>\n",
              "      <td>0.000000</td>\n",
              "      <td>0.080579</td>\n",
              "      <td>0.078512</td>\n",
              "      <td>0.066116</td>\n",
              "      <td>0.049587</td>\n",
              "      <td>0.047521</td>\n",
              "      <td>0.035124</td>\n",
              "      <td>...</td>\n",
              "      <td>0.0</td>\n",
              "      <td>0.0</td>\n",
              "      <td>0.0</td>\n",
              "      <td>0.0</td>\n",
              "      <td>0.0</td>\n",
              "      <td>0.0</td>\n",
              "      <td>0.0</td>\n",
              "      <td>0.0</td>\n",
              "      <td>0.0</td>\n",
              "      <td>0.0</td>\n",
              "    </tr>\n",
              "    <tr>\n",
              "      <th>1</th>\n",
              "      <td>0.908425</td>\n",
              "      <td>0.783883</td>\n",
              "      <td>0.531136</td>\n",
              "      <td>0.362637</td>\n",
              "      <td>0.366300</td>\n",
              "      <td>0.344322</td>\n",
              "      <td>0.333333</td>\n",
              "      <td>0.307692</td>\n",
              "      <td>0.296703</td>\n",
              "      <td>0.300366</td>\n",
              "      <td>...</td>\n",
              "      <td>0.0</td>\n",
              "      <td>0.0</td>\n",
              "      <td>0.0</td>\n",
              "      <td>0.0</td>\n",
              "      <td>0.0</td>\n",
              "      <td>0.0</td>\n",
              "      <td>0.0</td>\n",
              "      <td>0.0</td>\n",
              "      <td>0.0</td>\n",
              "      <td>0.0</td>\n",
              "    </tr>\n",
              "    <tr>\n",
              "      <th>2</th>\n",
              "      <td>0.730088</td>\n",
              "      <td>0.212389</td>\n",
              "      <td>0.000000</td>\n",
              "      <td>0.119469</td>\n",
              "      <td>0.101770</td>\n",
              "      <td>0.101770</td>\n",
              "      <td>0.110619</td>\n",
              "      <td>0.123894</td>\n",
              "      <td>0.115044</td>\n",
              "      <td>0.132743</td>\n",
              "      <td>...</td>\n",
              "      <td>0.0</td>\n",
              "      <td>0.0</td>\n",
              "      <td>0.0</td>\n",
              "      <td>0.0</td>\n",
              "      <td>0.0</td>\n",
              "      <td>0.0</td>\n",
              "      <td>0.0</td>\n",
              "      <td>0.0</td>\n",
              "      <td>0.0</td>\n",
              "      <td>0.0</td>\n",
              "    </tr>\n",
              "    <tr>\n",
              "      <th>3</th>\n",
              "      <td>1.000000</td>\n",
              "      <td>0.910417</td>\n",
              "      <td>0.681250</td>\n",
              "      <td>0.472917</td>\n",
              "      <td>0.229167</td>\n",
              "      <td>0.068750</td>\n",
              "      <td>0.000000</td>\n",
              "      <td>0.004167</td>\n",
              "      <td>0.014583</td>\n",
              "      <td>0.054167</td>\n",
              "      <td>...</td>\n",
              "      <td>0.0</td>\n",
              "      <td>0.0</td>\n",
              "      <td>0.0</td>\n",
              "      <td>0.0</td>\n",
              "      <td>0.0</td>\n",
              "      <td>0.0</td>\n",
              "      <td>0.0</td>\n",
              "      <td>0.0</td>\n",
              "      <td>0.0</td>\n",
              "      <td>0.0</td>\n",
              "    </tr>\n",
              "    <tr>\n",
              "      <th>4</th>\n",
              "      <td>0.570470</td>\n",
              "      <td>0.399329</td>\n",
              "      <td>0.238255</td>\n",
              "      <td>0.147651</td>\n",
              "      <td>0.000000</td>\n",
              "      <td>0.003356</td>\n",
              "      <td>0.040268</td>\n",
              "      <td>0.080537</td>\n",
              "      <td>0.070470</td>\n",
              "      <td>0.090604</td>\n",
              "      <td>...</td>\n",
              "      <td>0.0</td>\n",
              "      <td>0.0</td>\n",
              "      <td>0.0</td>\n",
              "      <td>0.0</td>\n",
              "      <td>0.0</td>\n",
              "      <td>0.0</td>\n",
              "      <td>0.0</td>\n",
              "      <td>0.0</td>\n",
              "      <td>0.0</td>\n",
              "      <td>0.0</td>\n",
              "    </tr>\n",
              "  </tbody>\n",
              "</table>\n",
              "<p>5 rows × 188 columns</p>\n",
              "</div>\n",
              "      <button class=\"colab-df-convert\" onclick=\"convertToInteractive('df-ba334ca6-44b8-4440-804f-2234ccd49dfd')\"\n",
              "              title=\"Convert this dataframe to an interactive table.\"\n",
              "              style=\"display:none;\">\n",
              "        \n",
              "  <svg xmlns=\"http://www.w3.org/2000/svg\" height=\"24px\"viewBox=\"0 0 24 24\"\n",
              "       width=\"24px\">\n",
              "    <path d=\"M0 0h24v24H0V0z\" fill=\"none\"/>\n",
              "    <path d=\"M18.56 5.44l.94 2.06.94-2.06 2.06-.94-2.06-.94-.94-2.06-.94 2.06-2.06.94zm-11 1L8.5 8.5l.94-2.06 2.06-.94-2.06-.94L8.5 2.5l-.94 2.06-2.06.94zm10 10l.94 2.06.94-2.06 2.06-.94-2.06-.94-.94-2.06-.94 2.06-2.06.94z\"/><path d=\"M17.41 7.96l-1.37-1.37c-.4-.4-.92-.59-1.43-.59-.52 0-1.04.2-1.43.59L10.3 9.45l-7.72 7.72c-.78.78-.78 2.05 0 2.83L4 21.41c.39.39.9.59 1.41.59.51 0 1.02-.2 1.41-.59l7.78-7.78 2.81-2.81c.8-.78.8-2.07 0-2.86zM5.41 20L4 18.59l7.72-7.72 1.47 1.35L5.41 20z\"/>\n",
              "  </svg>\n",
              "      </button>\n",
              "      \n",
              "  <style>\n",
              "    .colab-df-container {\n",
              "      display:flex;\n",
              "      flex-wrap:wrap;\n",
              "      gap: 12px;\n",
              "    }\n",
              "\n",
              "    .colab-df-convert {\n",
              "      background-color: #E8F0FE;\n",
              "      border: none;\n",
              "      border-radius: 50%;\n",
              "      cursor: pointer;\n",
              "      display: none;\n",
              "      fill: #1967D2;\n",
              "      height: 32px;\n",
              "      padding: 0 0 0 0;\n",
              "      width: 32px;\n",
              "    }\n",
              "\n",
              "    .colab-df-convert:hover {\n",
              "      background-color: #E2EBFA;\n",
              "      box-shadow: 0px 1px 2px rgba(60, 64, 67, 0.3), 0px 1px 3px 1px rgba(60, 64, 67, 0.15);\n",
              "      fill: #174EA6;\n",
              "    }\n",
              "\n",
              "    [theme=dark] .colab-df-convert {\n",
              "      background-color: #3B4455;\n",
              "      fill: #D2E3FC;\n",
              "    }\n",
              "\n",
              "    [theme=dark] .colab-df-convert:hover {\n",
              "      background-color: #434B5C;\n",
              "      box-shadow: 0px 1px 3px 1px rgba(0, 0, 0, 0.15);\n",
              "      filter: drop-shadow(0px 1px 2px rgba(0, 0, 0, 0.3));\n",
              "      fill: #FFFFFF;\n",
              "    }\n",
              "  </style>\n",
              "\n",
              "      <script>\n",
              "        const buttonEl =\n",
              "          document.querySelector('#df-ba334ca6-44b8-4440-804f-2234ccd49dfd button.colab-df-convert');\n",
              "        buttonEl.style.display =\n",
              "          google.colab.kernel.accessAllowed ? 'block' : 'none';\n",
              "\n",
              "        async function convertToInteractive(key) {\n",
              "          const element = document.querySelector('#df-ba334ca6-44b8-4440-804f-2234ccd49dfd');\n",
              "          const dataTable =\n",
              "            await google.colab.kernel.invokeFunction('convertToInteractive',\n",
              "                                                     [key], {});\n",
              "          if (!dataTable) return;\n",
              "\n",
              "          const docLinkHtml = 'Like what you see? Visit the ' +\n",
              "            '<a target=\"_blank\" href=https://colab.research.google.com/notebooks/data_table.ipynb>data table notebook</a>'\n",
              "            + ' to learn more about interactive tables.';\n",
              "          element.innerHTML = '';\n",
              "          dataTable['output_type'] = 'display_data';\n",
              "          await google.colab.output.renderOutput(dataTable, element);\n",
              "          const docLink = document.createElement('div');\n",
              "          docLink.innerHTML = docLinkHtml;\n",
              "          element.appendChild(docLink);\n",
              "        }\n",
              "      </script>\n",
              "    </div>\n",
              "  </div>\n",
              "  "
            ]
          },
          "metadata": {},
          "execution_count": 289
        }
      ]
    },
    {
      "cell_type": "code",
      "source": [
        "# Get test data shape\n",
        "df_test.shape"
      ],
      "metadata": {
        "colab": {
          "base_uri": "https://localhost:8080/"
        },
        "id": "9EAmLLqHCACC",
        "outputId": "45cdb11a-a03a-4c88-ac95-e05e2c3a5cfe"
      },
      "execution_count": 290,
      "outputs": [
        {
          "output_type": "execute_result",
          "data": {
            "text/plain": [
              "(21892, 188)"
            ]
          },
          "metadata": {},
          "execution_count": 290
        }
      ]
    },
    {
      "cell_type": "code",
      "source": [
        "# Split test features and test labels\n",
        "df_test_features, df_test_labels = df_test.iloc[:,:-1], df_test.iloc[:,[-1]]"
      ],
      "metadata": {
        "id": "7WRgQOcmBxEY"
      },
      "execution_count": 247,
      "outputs": []
    },
    {
      "cell_type": "code",
      "source": [
        "# Check which classes are present in the data\n",
        "df_test_labels[187].unique()"
      ],
      "metadata": {
        "colab": {
          "base_uri": "https://localhost:8080/"
        },
        "id": "ZoE_U1SfBw8h",
        "outputId": "660a71d0-5772-454b-ebf4-4df0bfa09a02"
      },
      "execution_count": 248,
      "outputs": [
        {
          "output_type": "execute_result",
          "data": {
            "text/plain": [
              "array([0., 1., 2., 3., 4.])"
            ]
          },
          "metadata": {},
          "execution_count": 248
        }
      ]
    },
    {
      "cell_type": "code",
      "source": [
        "# Specify test data folder where test signals will be stored for evaluation\n",
        "test_dir = '/content/drive/My Drive/ECG Project/test/'"
      ],
      "metadata": {
        "id": "sqhQFh27Da0e"
      },
      "execution_count": 249,
      "outputs": []
    },
    {
      "cell_type": "markdown",
      "source": [
        "## Sample Test Dataset"
      ],
      "metadata": {
        "id": "9UxHNlfpFIBX"
      }
    },
    {
      "cell_type": "code",
      "source": [
        "# Specify location indices of classes\n",
        "class_1_indices_test = df_test_labels.index[df_test_labels[187] == 0].tolist()\n",
        "class_2_indices_test = df_test_labels.index[df_test_labels[187] == 1].tolist()\n",
        "class_3_indices_test = df_test_labels.index[df_test_labels[187] == 2].tolist()\n",
        "class_4_indices_test = df_test_labels.index[df_test_labels[187] == 3].tolist()\n",
        "class_5_indices_test = df_test_labels.index[df_test_labels[187] == 4].tolist()"
      ],
      "metadata": {
        "id": "tWiB8DgZFSSk"
      },
      "execution_count": 250,
      "outputs": []
    },
    {
      "cell_type": "code",
      "source": [
        "print(\"Number of of class 1 entries = \" + str(len(class_1_indices_test)))\n",
        "print(\"\\nNumber of of class 2 entries = \" + str(len(class_2_indices_test)))\n",
        "print(\"\\nNumber of of class 3 entries = \" + str(len(class_3_indices_test)))\n",
        "print(\"\\nNumber of of class 4 entries = \" + str(len(class_4_indices_test)))\n",
        "print(\"\\nNumber of of class 5 entries = \" + str(len(class_5_indices_test)))"
      ],
      "metadata": {
        "colab": {
          "base_uri": "https://localhost:8080/"
        },
        "id": "3PFku-etFGiA",
        "outputId": "06932e13-5839-450d-bf92-0984abfb40b4"
      },
      "execution_count": 251,
      "outputs": [
        {
          "output_type": "stream",
          "name": "stdout",
          "text": [
            "Number of of class 1 entries = 18118\n",
            "\n",
            "Number of of class 2 entries = 556\n",
            "\n",
            "Number of of class 3 entries = 1448\n",
            "\n",
            "Number of of class 4 entries = 162\n",
            "\n",
            "Number of of class 5 entries = 1608\n"
          ]
        }
      ]
    },
    {
      "cell_type": "code",
      "source": [
        "# Sample test dataset\n",
        "df_0_test = df_test_features.iloc[class_1_indices_test]\n",
        "df_1_test = df_test_features.iloc[class_2_indices_test]\n",
        "df_2_test = df_test_features.iloc[class_3_indices_test]\n",
        "df_3_test = df_test_features.iloc[class_4_indices_test]\n",
        "df_4_test = df_test_features.iloc[class_5_indices_test]\n",
        "\n",
        "\n",
        "sample_size = 100\n",
        "df_0_test_sampled = df_0_test.sample(n = sample_size)\n",
        "df_1_test_sampled = df_1_test.sample(n = sample_size)\n",
        "df_2_test_sampled = df_2_test.sample(n = sample_size)\n",
        "df_3_test_sampled = df_3_test.sample(n = sample_size)\n",
        "df_4_test_sampled = df_4_test.sample(n = sample_size)\n",
        "\n",
        "df_test_sampled = pd.concat([df_0_test_sampled, df_1_test_sampled, df_2_test_sampled, df_3_test_sampled, df_4_test_sampled], axis = 0)"
      ],
      "metadata": {
        "id": "J_56FvI-F4Xl"
      },
      "execution_count": 252,
      "outputs": []
    },
    {
      "cell_type": "code",
      "source": [
        "# Get sampled indices to a list\n",
        "test_sampled_indices = df_test_sampled.index.to_list()\n",
        "\n",
        "# Get labels of sampled data\n",
        "df_test_sampled_labels = df_test_labels.iloc[test_sampled_indices]"
      ],
      "metadata": {
        "id": "aSRFziZyGtyy"
      },
      "execution_count": 253,
      "outputs": []
    },
    {
      "cell_type": "code",
      "source": [
        "# This section converts the ECG signals into wavelet transforms and saves the images into labelled folders depending on the class.\n",
        "\n",
        "for row in tqdm(test_sampled_indices):\n",
        "        current_row = df_test_sampled.loc[row]\n",
        "        target_dir = 'class_' +  str(int(df_test_sampled_labels.loc[row].values))            \n",
        "        dist_dir = os.path.join(test_dir, target_dir)\n",
        "        file_dist_path = os.path.join(dist_dir, str(row))\n",
        "        if not os.path.exists(file_dist_path + '.png'):\n",
        "            if not os.path.exists(dist_dir):\n",
        "                os.mkdir(dist_dir)                \n",
        "            cwtmatr_yflip = make_cwts(df_test_sampled.loc[row])\n",
        "\n",
        "            fig = plt.subplots(figsize=(8, 7))\n",
        "            img = plt.imshow(cwtmatr_yflip,extent=[0, 2, 1, 50], cmap='viridis', aspect='auto',\n",
        "           vmax=abs(cwtmatr).max(), vmin=-abs(cwtmatr).max())\n",
        "            plt.axis('off')\n",
        "            plt.savefig(f'{file_dist_path}.png')\n",
        "            plt.close()"
      ],
      "metadata": {
        "colab": {
          "base_uri": "https://localhost:8080/",
          "height": 49,
          "referenced_widgets": [
            "67b20fca2a3249a7bca3d57c7098248b",
            "44f5c90d90a94d3880605df339aae630",
            "84b53e51c4874febac83178aea53e7b0",
            "89baa8e8a42d444ea41ca142ab1d361a",
            "dfca18157b094febab2d23e022394a88",
            "a4dd4c116c7e41298438d9be6e14d2d2",
            "4072bb7cebf648359156f7d2e7429921",
            "4bef87a18a5248229586ab9d1422e788",
            "1be70fb0ae924decbc4b36a671b2c7ce",
            "e80b9e2997f547fca99472e8991a090a",
            "7ff33c312f4b4621b07b91b720cdc2c1"
          ]
        },
        "id": "PZ3ZInraCTMy",
        "outputId": "ee1353a0-5d98-4960-8e38-737dd2621e79"
      },
      "execution_count": 264,
      "outputs": [
        {
          "output_type": "display_data",
          "data": {
            "text/plain": [
              "  0%|          | 0/500 [00:00<?, ?it/s]"
            ],
            "application/vnd.jupyter.widget-view+json": {
              "version_major": 2,
              "version_minor": 0,
              "model_id": "67b20fca2a3249a7bca3d57c7098248b"
            }
          },
          "metadata": {}
        }
      ]
    },
    {
      "cell_type": "code",
      "source": [
        "# generate tensorflow dataset from test image directory\n",
        "test_dataset = tf.keras.preprocessing.image_dataset_from_directory(\n",
        "                                             batch_size=BATCH_SIZE,\n",
        "                                             validation_split=None,\n",
        "                                             directory=test_dir,\n",
        "                                             shuffle=False,\n",
        "                                             color_mode='rgb',\n",
        "                                             image_size=(SIZE, SIZE),\n",
        "                                             subset=None,\n",
        "                                             seed=0,\n",
        "                                             label_mode = 'categorical');"
      ],
      "metadata": {
        "colab": {
          "base_uri": "https://localhost:8080/"
        },
        "id": "goV_ej1iHpgF",
        "outputId": "64386cfa-0484-4fd1-9092-c8d07b1bb01b"
      },
      "execution_count": 265,
      "outputs": [
        {
          "output_type": "stream",
          "name": "stdout",
          "text": [
            "Found 500 files belonging to 5 classes.\n"
          ]
        }
      ]
    },
    {
      "cell_type": "code",
      "source": [
        "# # Use buffered prefetching to load images from disk without having I/O become blocking. This improves performance.\n",
        "# test_dataset = test_dataset.prefetch(buffer_size=AUTOTUNE)"
      ],
      "metadata": {
        "id": "cFhx3k1fIXq3"
      },
      "execution_count": 256,
      "outputs": []
    },
    {
      "cell_type": "code",
      "source": [
        "# Evaluate model on test set\n",
        "test_loss, test_accuracy = model.evaluate(test_dataset)"
      ],
      "metadata": {
        "colab": {
          "base_uri": "https://localhost:8080/"
        },
        "id": "6QdUB5juIe4o",
        "outputId": "1ff35dc0-5351-48c5-bd25-4fbccfda9c9d"
      },
      "execution_count": 291,
      "outputs": [
        {
          "output_type": "stream",
          "name": "stdout",
          "text": [
            "16/16 [==============================] - 2s 91ms/step - loss: 0.4625 - accuracy: 0.8660\n"
          ]
        }
      ]
    },
    {
      "cell_type": "code",
      "source": [
        "# The next set of functions will be used to plot the confusion matrix\n",
        "\n",
        "from io import BytesIO\n",
        "def plot_to_image(figure):\n",
        "    \"\"\"\n",
        "    Saves plot as a png file.\n",
        "    src: tensorflow.org docs\n",
        "    https://stackoverflow.com/a/61443397/6118987\n",
        "    https://www.tensorflow.org/tensorboard/image_summaries\n",
        "    \n",
        "    \"\"\"\n",
        "    # save plot to png file\n",
        "    buf = BytesIO()\n",
        "    plt.savefig(buf, format='png')\n",
        "\n",
        "    # Closing the figure prevents it from being displayed directly inside\n",
        "    # the notebook.\n",
        "    # plt.close(figure)\n",
        "\n",
        "    buf.seek(0)\n",
        "    \n",
        "    image = tf.image.decode_png(buf.getvalue(), channels=4)\n",
        "    \n",
        "    # Add the batch dimension\n",
        "    image = tf.expand_dims(image, 0)\n",
        "    buf.close()\n",
        "\n",
        "    return image"
      ],
      "metadata": {
        "id": "2FoJd4QwNWry"
      },
      "execution_count": 267,
      "outputs": []
    },
    {
      "cell_type": "code",
      "source": [
        "def image_grid(data, labels, class_names):\n",
        "    \"\"\"\n",
        "    Saves all images as a grid of class_names * class_names.\n",
        "    src: tensorflow docs\n",
        "    \"\"\"\n",
        "    assert data.ndim == 4\n",
        "    figure = plt.figure(figsize=(10,10))\n",
        "    \n",
        "    num_images = data.shape[0]\n",
        "    size = int(np.ceil(np.sqrt(num_images)))\n",
        "    # class_names[int(tf.argmax(y[0]))\n",
        "    for i in range(num_images):\n",
        "        plt.subplot(size, size, i+1, title=class_names[int(tf.argmax(labels[i]))])\n",
        "        plt.xticks([])\n",
        "        plt.yticks([])\n",
        "        plt.grid(False)\n",
        "        \n",
        "        # Grayscale images\n",
        "        if data.shape[3] == 1:\n",
        "            plt.imshow(data[i], cmap=plt.cm.binary)\n",
        "        else:\n",
        "            plt.imshow(data[i])\n",
        "\n",
        "    return figure"
      ],
      "metadata": {
        "id": "vXQy-NCJNmgj"
      },
      "execution_count": 268,
      "outputs": []
    },
    {
      "cell_type": "code",
      "source": [
        "from sklearn.metrics import confusion_matrix\n",
        "def get_confusion_matrix(y_labels, logits, class_names):\n",
        "    \"\"\"\n",
        "    Confusion matrix calculation.\n",
        "    Src: Tensorflow docs\n",
        "    \"\"\"\n",
        "    preds = np.argmax(logits, axis=1)\n",
        "    labels = np.argmax(y_labels, axis=1).numpy()\n",
        "    cm = confusion_matrix(\n",
        "        labels,\n",
        "        preds, \n",
        "        labels=np.arange(len(class_names))\n",
        "    )\n",
        "\n",
        "    return cm"
      ],
      "metadata": {
        "id": "JeJMgI-sO6B8"
      },
      "execution_count": 260,
      "outputs": []
    },
    {
      "cell_type": "code",
      "source": [
        "import itertools\n",
        "def plot_confusion_matrix(cm, class_names):\n",
        "    \"\"\"\n",
        "    Saves the confusion matrix as image.\n",
        "    Src: Tensorflow docs\n",
        "    \"\"\"\n",
        "    size=len(class_names)\n",
        "    figure=plt.figure(figsize=(size, size))\n",
        "    plt.imshow(cm, interpolation='nearest', cmap=plt.cm.Blues)\n",
        "    plt.title(\"Confusion Matrix\")\n",
        "    plt.colorbar()\n",
        "    indices = np.arange(len(class_names))\n",
        "    \n",
        "    plt.xticks(indices, class_names, rotation=45)\n",
        "    plt.yticks(indices, class_names)\n",
        "    labels=np.around(\n",
        "        cm.astype('float') / cm.sum(axis=1)[:, np.newaxis], decimals=2)\n",
        "\n",
        "    threshold = cm.max() / 2.0\n",
        "\n",
        "    for i, j in itertools.product(range(cm.shape[0]), range(cm.shape[1])):\n",
        "        color = \"white\" if cm[i, j] > threshold else \"black\"\n",
        "        plt.text(j, i, labels[i, j], horizontalalignment=\"center\", color=color)\n",
        "\n",
        "    plt.tight_layout()\n",
        "    plt.xlabel(\"True Label\")\n",
        "    plt.ylabel(\"Prediction label\")\n",
        "    cm_image = plot_to_image(figure)\n",
        "    \n",
        "    return  cm_image"
      ],
      "metadata": {
        "id": "HhacOyXgNnmM"
      },
      "execution_count": 261,
      "outputs": []
    },
    {
      "cell_type": "code",
      "source": [
        "# Plot confusion matrix\n",
        "from sklearn import metrics\n",
        "Y_pred = model.predict(test_dataset)\n",
        "val_preds = np.argmax(Y_pred, axis=1)\n",
        "val_trues = df_test_sampled_labels[187].to_list()\n",
        "cm = metrics.confusion_matrix(val_trues, val_preds)\n",
        "plot_confusion_matrix(cm, test_dataset.class_names)\n",
        "plt.savefig('/content/drive/My Drive/ECG Project/downloads/cmatrix.png')"
      ],
      "metadata": {
        "colab": {
          "base_uri": "https://localhost:8080/",
          "height": 381
        },
        "id": "oaLMfdrTRhGM",
        "outputId": "dd97476d-3ecb-48e3-ecab-3c9b6b0c9662"
      },
      "execution_count": 296,
      "outputs": [
        {
          "output_type": "stream",
          "name": "stdout",
          "text": [
            "16/16 [==============================] - 2s 115ms/step\n"
          ]
        },
        {
          "output_type": "display_data",
          "data": {
            "text/plain": [
              "<Figure size 360x360 with 2 Axes>"
            ],
            "image/png": "[encoded data removed]"
          },
          "metadata": {}
        }
      ]
    }
  ]
}